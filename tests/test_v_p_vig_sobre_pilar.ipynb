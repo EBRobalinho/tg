{
 "cells": [
  {
   "cell_type": "code",
   "execution_count": 45,
   "metadata": {},
   "outputs": [],
   "source": [
    "#Importar bibliotecas do sistemas\n",
    "import sys\n",
    "import os\n",
    "\n",
    "# Caminho absoluto até a pasta src\n",
    "sys.path.append(os.path.abspath(\"../src\"))\n",
    "\n",
    "#Importar libs do python\n",
    "import pandas as pd \n",
    "import numpy as np \n",
    "import math\n",
    "from pyautocad import Autocad, APoint \n",
    "\n",
    "#Importar libs do programa \n",
    "import design_functions\n",
    "from v_p_viga_sobre_pilar.v_p_viga_sobre_pilar import *\n",
    "from v_p_chapa_cabeca.v_p_chapa_cabeca import parametro_b,espessura_solda\n",
    "from draw_autocad.draw_autocad_figures import *\n",
    "from materials import * "
   ]
  },
  {
   "cell_type": "code",
   "execution_count": 46,
   "metadata": {},
   "outputs": [],
   "source": [
    "perfil_pilar = W_610x174_0\n",
    "\n",
    "aço_escolhido = ASTM_A36\n",
    "\n",
    "aco_chapa = ASTM_A36\n",
    "\n",
    "solda_escolhida =E70XX\n",
    "\n",
    "perfil_pilar.inercias()\n",
    "perfil_pilar.material(aço_escolhido)\n"
   ]
  },
  {
   "cell_type": "markdown",
   "metadata": {},
   "source": [
    "##### Cálculo da disposição da chapa, dos parafusos e do diâmetro minimo"
   ]
  },
  {
   "cell_type": "code",
   "execution_count": 47,
   "metadata": {},
   "outputs": [],
   "source": [
    "M = 650600 #kN.mm \n",
    "\n",
    "V = 720 #kN\n",
    "\n",
    "T = 480 #kN\n",
    "\n",
    "parafuso = ASTM_A325\n",
    "parafuso.prop_geometricas(rosca = 1,planos_de_corte =1)\n",
    "\n",
    "enrijecedor = 1\n",
    "\n",
    "S = dim_chapa_pilar(M,V,T,aco_chapa,enrijecedor,perfil_pilar,parafuso,gamma)"
   ]
  },
  {
   "cell_type": "code",
   "execution_count": 48,
   "metadata": {},
   "outputs": [
    {
     "data": {
      "text/plain": [
       "[11,\n",
       " <class_materials.Parafuso at 0x1b6d895b9d0>,\n",
       " <class_materials.ChapaExtremidade at 0x1b6da4fabd0>,\n",
       "     parafuso  x (mm)  y (mm)\n",
       " 0          1      40    25.0\n",
       " 1          2     285    25.0\n",
       " 2          3      40   106.6\n",
       " 3          4     285   106.6\n",
       " 4          5      40   170.7\n",
       " 5          6     285   170.7\n",
       " 6          7      40   234.8\n",
       " 7          8     285   234.8\n",
       " 8          9      40   298.9\n",
       " 9         10     285   298.9\n",
       " 10        11      40   363.0\n",
       " 11        12     285   363.0\n",
       " 12        13      40   427.1\n",
       " 13        14     285   427.1\n",
       " 14        15      40   491.2\n",
       " 15        16     285   491.2\n",
       " 16        17      40   555.3\n",
       " 17        18     285   555.3\n",
       " 18        19      40   619.4\n",
       " 19        20     285   619.4\n",
       " 20        21      40   701.0\n",
       " 21        22     285   701.0,\n",
       " 25.4,\n",
       " 15.875]"
      ]
     },
     "execution_count": 48,
     "metadata": {},
     "output_type": "execute_result"
    }
   ],
   "source": [
    "S"
   ]
  },
  {
   "cell_type": "code",
   "execution_count": 49,
   "metadata": {},
   "outputs": [
    {
     "data": {
      "text/plain": [
       "19.049999999999997"
      ]
     },
     "execution_count": 49,
     "metadata": {},
     "output_type": "execute_result"
    }
   ],
   "source": [
    "parafuso.diametro_mm"
   ]
  },
  {
   "cell_type": "code",
   "execution_count": 50,
   "metadata": {},
   "outputs": [],
   "source": [
    "chapa=S[2]\n",
    "ver_parafuso=S[3]\n",
    "exp=S[4]\n",
    "if enrijecedor ==1:\n",
    "    enj = S[5]"
   ]
  },
  {
   "cell_type": "code",
   "execution_count": 51,
   "metadata": {},
   "outputs": [
    {
     "data": {
      "text/plain": [
       "25.4"
      ]
     },
     "execution_count": 51,
     "metadata": {},
     "output_type": "execute_result"
    }
   ],
   "source": [
    "exp"
   ]
  },
  {
   "cell_type": "markdown",
   "metadata": {},
   "source": [
    "##### Cálculo da espessura do filete de solda na alma e na mesa"
   ]
  },
  {
   "cell_type": "code",
   "execution_count": 52,
   "metadata": {},
   "outputs": [
    {
     "data": {
      "text/plain": [
       "6"
      ]
     },
     "execution_count": 52,
     "metadata": {},
     "output_type": "execute_result"
    }
   ],
   "source": [
    "espessura = espessura_solda(M,T,V,solda_escolhida,perfil_pilar,exp,True,gamma)\n",
    "\n",
    "esp = math.ceil(espessura) #mm\n",
    "\n",
    "esp"
   ]
  },
  {
   "cell_type": "markdown",
   "metadata": {},
   "source": [
    "##### Abertura do projeto no pyautocad"
   ]
  },
  {
   "cell_type": "code",
   "execution_count": 53,
   "metadata": {},
   "outputs": [
    {
     "name": "stdout",
     "output_type": "stream",
     "text": [
      "Hello, Autocad from Python\n",
      "\n",
      "Drawing1.dwg\n"
     ]
    }
   ],
   "source": [
    "acad = Autocad(create_if_not_exists=True)\n",
    "acad.prompt(\"Hello, Autocad from Python\\n\")\n",
    "print(acad.doc.Name)"
   ]
  },
  {
   "cell_type": "code",
   "execution_count": 54,
   "metadata": {},
   "outputs": [
    {
     "name": "stdout",
     "output_type": "stream",
     "text": [
      "✅ Desenho limpo com sucesso.\n"
     ]
    }
   ],
   "source": [
    "limpar_desenho(acad)"
   ]
  },
  {
   "cell_type": "code",
   "execution_count": 55,
   "metadata": {},
   "outputs": [],
   "source": [
    "pontos_hexagono = gerar_pontos_hexagono(parafuso.diametro_mm)"
   ]
  },
  {
   "cell_type": "code",
   "execution_count": 56,
   "metadata": {},
   "outputs": [],
   "source": [
    "# Chamando a função para desenhar a chapa 3D\n",
    "objetos_chapa = criar_chapa_3d(acad, chapa.df, exp)"
   ]
  },
  {
   "cell_type": "code",
   "execution_count": 57,
   "metadata": {},
   "outputs": [],
   "source": [
    "objetos_parafusos=[]\n",
    "for i in range(ver_parafuso.shape[0]):\n",
    "    x_centro = ver_parafuso.iat[i, 1]\n",
    "    y_centro = ver_parafuso.iat[i, 2]\n",
    "\n",
    "    # Adicionar circunferência no ponto\n",
    "    obj = acad.model.AddCircle(APoint(x_centro, y_centro,exp), parafuso.diametro_mm / 2)\n",
    "    objetos_parafusos.append(obj)\n",
    "    obj = acad.model.AddCircle(APoint(x_centro, y_centro,0), parafuso.diametro_mm / 2)\n",
    "    objetos_parafusos.append(obj)\n",
    "    # Transladar hexágono para o ponto atual\n",
    "    hexagono_transladado = transladar_pontos(pontos_hexagono, x_centro, y_centro, exp)\n",
    "\n",
    "    for j in range(len(hexagono_transladado) - 1):\n",
    "        p1 = APoint(*hexagono_transladado[j])\n",
    "        p2 = APoint(*hexagono_transladado[j + 1])\n",
    "        obj = acad.model.AddLine(p1, p2)\n",
    "        objetos_parafusos.append(obj)"
   ]
  },
  {
   "cell_type": "code",
   "execution_count": 58,
   "metadata": {},
   "outputs": [],
   "source": [
    "base_perfil= min(ver_parafuso['y (mm)'])+ parametro_b(parafuso.diametro_mm)"
   ]
  },
  {
   "cell_type": "code",
   "execution_count": 59,
   "metadata": {},
   "outputs": [],
   "source": [
    "objetos_secao_perfil = desenhar_secao_perfil(acad, perfil_pilar, (chapa.B / 2) - (perfil_pilar.b_f / 2), posicao_y=base_perfil, altura_z=exp)"
   ]
  },
  {
   "cell_type": "code",
   "execution_count": 60,
   "metadata": {},
   "outputs": [],
   "source": [
    "if enrijecedor == 1:\n",
    "    desenhar_enrijecedores(acad, (0,0,exp),base_perfil ,chapa, perfil_pilar, ver_parafuso, parafuso.diametro_mm, enj)"
   ]
  }
 ],
 "metadata": {
  "kernelspec": {
   "display_name": "Python 3",
   "language": "python",
   "name": "python3"
  },
  "language_info": {
   "codemirror_mode": {
    "name": "ipython",
    "version": 3
   },
   "file_extension": ".py",
   "mimetype": "text/x-python",
   "name": "python",
   "nbconvert_exporter": "python",
   "pygments_lexer": "ipython3",
   "version": "3.13.2"
  }
 },
 "nbformat": 4,
 "nbformat_minor": 2
}
