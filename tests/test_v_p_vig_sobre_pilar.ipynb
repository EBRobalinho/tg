{
 "cells": [
  {
   "cell_type": "code",
   "execution_count": 1,
   "metadata": {},
   "outputs": [],
   "source": [
    "#Importar bibliotecas do sistemas\n",
    "import sys\n",
    "import os\n",
    "\n",
    "# Caminho absoluto até a pasta src\n",
    "sys.path.append(os.path.abspath(\"../src\"))\n",
    "\n",
    "#Importar libs do python\n",
    "import pandas as pd \n",
    "import numpy as np \n",
    "import math\n",
    "from pyautocad import Autocad, APoint \n",
    "import win32com.client\n",
    "\n",
    "\n",
    "#Importar libs do programa \n",
    "import design_functions\n",
    "from v_p_viga_sobre_pilar.v_p_viga_sobre_pilar import *\n",
    "from v_p_chapa_cabeca.v_p_chapa_cabeca import parametro_b,espessura_solda\n",
    "from draw_autocad.draw_autocad_figures import *\n",
    "from materials import * "
   ]
  },
  {
   "cell_type": "code",
   "execution_count": 2,
   "metadata": {},
   "outputs": [],
   "source": [
    "perfil_pilar = W_610x174_0\n",
    "\n",
    "aço_escolhido = ASTM_A36\n",
    "\n",
    "aco_chapa = ASTM_A36\n",
    "\n",
    "solda_escolhida =E70XX\n",
    "\n",
    "perfil_pilar.inercias()\n",
    "perfil_pilar.material(aço_escolhido)\n"
   ]
  },
  {
   "cell_type": "markdown",
   "metadata": {},
   "source": [
    "##### Cálculo da disposição da chapa, dos parafusos e do diâmetro minimo"
   ]
  },
  {
   "cell_type": "code",
   "execution_count": 3,
   "metadata": {},
   "outputs": [],
   "source": [
    "M = 6500 #kN.mm \n",
    "\n",
    "V = 720 #kN\n",
    "\n",
    "T = 480 #kN\n",
    "\n",
    "parafuso = ASTM_A325\n",
    "parafuso.prop_geometricas(rosca = 1,planos_de_corte =1)\n",
    "\n",
    "enrijecedor = 0\n",
    "\n",
    "S = dim_chapa_pilar(M,V,T,aco_chapa,enrijecedor,perfil_pilar,parafuso,gamma)"
   ]
  },
  {
   "cell_type": "code",
   "execution_count": 4,
   "metadata": {},
   "outputs": [
    {
     "data": {
      "text/plain": [
       "[0,\n",
       " <class_materials.Parafuso at 0x1b2a15aa990>,\n",
       " <class_materials.ChapaExtremidade at 0x1b2a1605fd0>,\n",
       "     parafuso  x (mm)      y (mm)\n",
       " 0          1      40   19.000000\n",
       " 1          2     285   19.000000\n",
       " 2          3      40  100.600000\n",
       " 3          4     285  100.600000\n",
       " 4          5      40  140.046154\n",
       " 5          6     285  140.046154\n",
       " 6          7      40  179.492308\n",
       " 7          8     285  179.492308\n",
       " 8          9      40  218.938462\n",
       " 9         10     285  218.938462\n",
       " 10        11      40  258.384615\n",
       " 11        12     285  258.384615\n",
       " 12        13      40  297.830769\n",
       " 13        14     285  297.830769\n",
       " 14        15      40  337.276923\n",
       " 15        16     285  337.276923\n",
       " 16        17      40  376.723077\n",
       " 17        18     285  376.723077\n",
       " 18        19      40  416.169231\n",
       " 19        20     285  416.169231\n",
       " 20        21      40  455.615385\n",
       " 21        22     285  455.615385\n",
       " 22        23      40  495.061538\n",
       " 23        24     285  495.061538\n",
       " 24        25      40  534.507692\n",
       " 25        26     285  534.507692\n",
       " 26        27      40  573.953846\n",
       " 27        28     285  573.953846\n",
       " 28        29      40  613.400000\n",
       " 29        30     285  613.400000\n",
       " 30        31      40  695.000000\n",
       " 31        32     285  695.000000,\n",
       " 9.524999999999999]"
      ]
     },
     "execution_count": 4,
     "metadata": {},
     "output_type": "execute_result"
    }
   ],
   "source": [
    "S"
   ]
  },
  {
   "cell_type": "code",
   "execution_count": 5,
   "metadata": {},
   "outputs": [
    {
     "data": {
      "text/plain": [
       "12.7"
      ]
     },
     "execution_count": 5,
     "metadata": {},
     "output_type": "execute_result"
    }
   ],
   "source": [
    "parafuso.diametro_mm"
   ]
  },
  {
   "cell_type": "code",
   "execution_count": 6,
   "metadata": {},
   "outputs": [],
   "source": [
    "chapa=S[2]\n",
    "ver_parafuso=S[3]\n",
    "exp=S[4]\n",
    "if enrijecedor ==1:\n",
    "    enj = S[5]\n",
    "    print(enj)"
   ]
  },
  {
   "cell_type": "code",
   "execution_count": 7,
   "metadata": {},
   "outputs": [
    {
     "data": {
      "text/plain": [
       "9.524999999999999"
      ]
     },
     "execution_count": 7,
     "metadata": {},
     "output_type": "execute_result"
    }
   ],
   "source": [
    "exp"
   ]
  },
  {
   "cell_type": "markdown",
   "metadata": {},
   "source": [
    "##### Cálculo da espessura do filete de solda na alma e na mesa"
   ]
  },
  {
   "cell_type": "code",
   "execution_count": 8,
   "metadata": {},
   "outputs": [
    {
     "data": {
      "text/plain": [
       "5"
      ]
     },
     "execution_count": 8,
     "metadata": {},
     "output_type": "execute_result"
    }
   ],
   "source": [
    "espessura = espessura_solda(M,T,V,solda_escolhida,perfil_pilar,exp,True,gamma)\n",
    "\n",
    "esp = math.ceil(espessura) #mm\n",
    "\n",
    "esp"
   ]
  },
  {
   "cell_type": "markdown",
   "metadata": {},
   "source": [
    "##### Abertura do projeto no pyautocad"
   ]
  },
  {
   "cell_type": "code",
   "execution_count": 9,
   "metadata": {},
   "outputs": [],
   "source": [
    "# Cria instância do AutoCAD\n",
    "acad = win32com.client.Dispatch(\"AutoCAD.Application\")\n",
    "acad.Visible = True  # Garante que a janela fique visível"
   ]
  },
  {
   "cell_type": "code",
   "execution_count": 10,
   "metadata": {},
   "outputs": [
    {
     "name": "stdout",
     "output_type": "stream",
     "text": [
      "Hello, Autocad from Python\n",
      "\n",
      "Drawing1.dwg\n"
     ]
    }
   ],
   "source": [
    "acad = Autocad(create_if_not_exists=True)\n",
    "acad.prompt(\"Hello, Autocad from Python\\n\")\n",
    "print(acad.doc.Name)"
   ]
  },
  {
   "cell_type": "code",
   "execution_count": 11,
   "metadata": {},
   "outputs": [
    {
     "name": "stdout",
     "output_type": "stream",
     "text": [
      "✅ Desenho limpo com sucesso.\n"
     ]
    }
   ],
   "source": [
    "limpar_desenho(acad)"
   ]
  },
  {
   "cell_type": "code",
   "execution_count": 12,
   "metadata": {},
   "outputs": [],
   "source": [
    "pontos_hexagono = gerar_pontos_hexagono(parafuso.diametro_mm)"
   ]
  },
  {
   "cell_type": "code",
   "execution_count": 13,
   "metadata": {},
   "outputs": [],
   "source": [
    "# Chamando a função para desenhar a chapa 3D\n",
    "objetos_chapa = criar_chapa_3d(acad, chapa.df, exp)"
   ]
  },
  {
   "cell_type": "code",
   "execution_count": 14,
   "metadata": {},
   "outputs": [],
   "source": [
    "objetos_parafusos=[]\n",
    "for i in range(ver_parafuso.shape[0]):\n",
    "    x_centro = ver_parafuso.iat[i, 1]\n",
    "    y_centro = ver_parafuso.iat[i, 2]\n",
    "\n",
    "    # Adicionar circunferência no ponto\n",
    "    obj = acad.model.AddCircle(APoint(x_centro, y_centro,exp), parafuso.diametro_mm / 2)\n",
    "    objetos_parafusos.append(obj)\n",
    "    obj = acad.model.AddCircle(APoint(x_centro, y_centro,0), parafuso.diametro_mm / 2)\n",
    "    objetos_parafusos.append(obj)\n",
    "    # Transladar hexágono para o ponto atual\n",
    "    hexagono_transladado = transladar_pontos(pontos_hexagono, x_centro, y_centro, exp)\n",
    "\n",
    "    for j in range(len(hexagono_transladado) - 1):\n",
    "        p1 = APoint(*hexagono_transladado[j])\n",
    "        p2 = APoint(*hexagono_transladado[j + 1])\n",
    "        obj = acad.model.AddLine(p1, p2)\n",
    "        objetos_parafusos.append(obj)"
   ]
  },
  {
   "cell_type": "code",
   "execution_count": 15,
   "metadata": {},
   "outputs": [],
   "source": [
    "base_perfil= min(ver_parafuso['y (mm)'])+ parametro_b(parafuso.diametro_mm)"
   ]
  },
  {
   "cell_type": "code",
   "execution_count": 16,
   "metadata": {},
   "outputs": [],
   "source": [
    "objetos_secao_perfil = desenhar_secao_perfil(acad, perfil_pilar, (chapa.B / 2) - (perfil_pilar.b_f / 2), posicao_y=base_perfil, altura_z=exp)"
   ]
  },
  {
   "cell_type": "code",
   "execution_count": 17,
   "metadata": {},
   "outputs": [],
   "source": [
    "if enrijecedor == 1:\n",
    "    desenhar_enrijecedores(acad, (0,0,exp),base_perfil ,chapa, perfil_pilar, ver_parafuso, parafuso.diametro_mm, enj)"
   ]
  }
 ],
 "metadata": {
  "kernelspec": {
   "display_name": "Python 3",
   "language": "python",
   "name": "python3"
  },
  "language_info": {
   "codemirror_mode": {
    "name": "ipython",
    "version": 3
   },
   "file_extension": ".py",
   "mimetype": "text/x-python",
   "name": "python",
   "nbconvert_exporter": "python",
   "pygments_lexer": "ipython3",
   "version": "3.13.2"
  }
 },
 "nbformat": 4,
 "nbformat_minor": 2
}
