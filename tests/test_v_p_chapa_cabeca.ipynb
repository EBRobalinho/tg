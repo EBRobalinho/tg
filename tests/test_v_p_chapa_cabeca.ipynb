{
 "cells": [
  {
   "cell_type": "code",
   "execution_count": 26,
   "metadata": {},
   "outputs": [],
   "source": [
    "#Importar bibliotecas do sistemas\n",
    "import sys\n",
    "import os\n",
    "\n",
    "# Caminho absoluto até a pasta src\n",
    "sys.path.append(os.path.abspath(\"../src\"))\n",
    "\n",
    "#Importar libs do python\n",
    "import pandas as pd \n",
    "import numpy as np \n",
    "import math\n",
    "from pyautocad import Autocad, APoint \n",
    "\n",
    "#Importar libs do programa \n",
    "import design_functions\n",
    "from v_p_chapa_cabeca.v_p_chapa_cabeca import *\n",
    "from draw_autocad.draw_autocad_figures import *\n",
    "from materials import * "
   ]
  },
  {
   "cell_type": "code",
   "execution_count": 27,
   "metadata": {},
   "outputs": [],
   "source": [
    "perfil_escolhido = W_530x109_0\n",
    "\n",
    "\n",
    "aço_escolhido = ASTM_A36\n",
    "\n",
    "solda_escolhida =E70XX\n",
    "\n",
    "perfil_escolhido.inercias()\n",
    "perfil_escolhido.material(aço_escolhido)\n"
   ]
  },
  {
   "cell_type": "markdown",
   "metadata": {},
   "source": [
    "##### Cálculo da disposição da chapa, dos parafusos e do diâmetro minimo"
   ]
  },
  {
   "cell_type": "code",
   "execution_count": 42,
   "metadata": {},
   "outputs": [],
   "source": [
    "M = 9806.7 #kN.mm \n",
    "\n",
    "V = 9.8067 #kN\n",
    "\n",
    "T = 9.8067 #kN\n",
    "\n",
    "parafuso = ASTM_A325\n",
    "parafuso.prop_geometricas(rosca = 1,planos_de_corte =1)\n",
    "\n",
    "S = dim_chapa_parafuso(M,V,T,perfil_escolhido,disposicoes_gerdau_chapa_cabeca,parafuso,gamma)\n"
   ]
  },
  {
   "cell_type": "code",
   "execution_count": 29,
   "metadata": {},
   "outputs": [
    {
     "data": {
      "text/plain": [
       "[0,\n",
       " <class_materials.Parafuso at 0x1da88e25710>,\n",
       " 59.81562515015006,\n",
       " <class_materials.ChapaCabeca at 0x1da8a727950>,\n",
       "     parafuso  x (mm)  y (mm)\n",
       " 0          1      35    68.8\n",
       " 1          2     105    68.8\n",
       " 2          3     175    68.8\n",
       " 3          4     245    68.8\n",
       " 4          5      35   510.2\n",
       " 5          6     105   510.2\n",
       " 6          7     175   510.2\n",
       " 7          8     245   510.2\n",
       " 8          9      35   589.0\n",
       " 9         10     105   589.0\n",
       " 10        11     175   589.0\n",
       " 11        12     245   589.0]"
      ]
     },
     "execution_count": 29,
     "metadata": {},
     "output_type": "execute_result"
    }
   ],
   "source": [
    "S"
   ]
  },
  {
   "cell_type": "code",
   "execution_count": 30,
   "metadata": {},
   "outputs": [
    {
     "data": {
      "text/plain": [
       "'1/2'"
      ]
     },
     "execution_count": 30,
     "metadata": {},
     "output_type": "execute_result"
    }
   ],
   "source": [
    "\n",
    "chapa = S[3]\n",
    "ver_parafuso = S[4]\n",
    "\n",
    "N_parafusos = len(ver_parafuso)  #Número total de parafusos\n",
    "\n",
    "S[1].diametro_pol"
   ]
  },
  {
   "cell_type": "code",
   "execution_count": 31,
   "metadata": {},
   "outputs": [
    {
     "data": {
      "application/vnd.microsoft.datawrangler.viewer.v0+json": {
       "columns": [
        {
         "name": "index",
         "rawType": "int64",
         "type": "integer"
        },
        {
         "name": "vértice",
         "rawType": "int64",
         "type": "integer"
        },
        {
         "name": "x (mm)",
         "rawType": "int64",
         "type": "integer"
        },
        {
         "name": "y (mm)",
         "rawType": "int64",
         "type": "integer"
        }
       ],
       "conversionMethod": "pd.DataFrame",
       "ref": "d862ead7-28a2-4f1a-b42e-0873128fb82f",
       "rows": [
        [
         "0",
         "1",
         "0",
         "0"
        ],
        [
         "1",
         "2",
         "280",
         "0"
        ],
        [
         "2",
         "3",
         "280",
         "619"
        ],
        [
         "3",
         "4",
         "0",
         "619"
        ],
        [
         "4",
         "5",
         "0",
         "0"
        ]
       ],
       "shape": {
        "columns": 3,
        "rows": 5
       }
      },
      "text/html": [
       "<div>\n",
       "<style scoped>\n",
       "    .dataframe tbody tr th:only-of-type {\n",
       "        vertical-align: middle;\n",
       "    }\n",
       "\n",
       "    .dataframe tbody tr th {\n",
       "        vertical-align: top;\n",
       "    }\n",
       "\n",
       "    .dataframe thead th {\n",
       "        text-align: right;\n",
       "    }\n",
       "</style>\n",
       "<table border=\"1\" class=\"dataframe\">\n",
       "  <thead>\n",
       "    <tr style=\"text-align: right;\">\n",
       "      <th></th>\n",
       "      <th>vértice</th>\n",
       "      <th>x (mm)</th>\n",
       "      <th>y (mm)</th>\n",
       "    </tr>\n",
       "  </thead>\n",
       "  <tbody>\n",
       "    <tr>\n",
       "      <th>0</th>\n",
       "      <td>1</td>\n",
       "      <td>0</td>\n",
       "      <td>0</td>\n",
       "    </tr>\n",
       "    <tr>\n",
       "      <th>1</th>\n",
       "      <td>2</td>\n",
       "      <td>280</td>\n",
       "      <td>0</td>\n",
       "    </tr>\n",
       "    <tr>\n",
       "      <th>2</th>\n",
       "      <td>3</td>\n",
       "      <td>280</td>\n",
       "      <td>619</td>\n",
       "    </tr>\n",
       "    <tr>\n",
       "      <th>3</th>\n",
       "      <td>4</td>\n",
       "      <td>0</td>\n",
       "      <td>619</td>\n",
       "    </tr>\n",
       "    <tr>\n",
       "      <th>4</th>\n",
       "      <td>5</td>\n",
       "      <td>0</td>\n",
       "      <td>0</td>\n",
       "    </tr>\n",
       "  </tbody>\n",
       "</table>\n",
       "</div>"
      ],
      "text/plain": [
       "   vértice  x (mm)  y (mm)\n",
       "0        1       0       0\n",
       "1        2     280       0\n",
       "2        3     280     619\n",
       "3        4       0     619\n",
       "4        5       0       0"
      ]
     },
     "execution_count": 31,
     "metadata": {},
     "output_type": "execute_result"
    }
   ],
   "source": [
    "chapa.df"
   ]
  },
  {
   "cell_type": "markdown",
   "metadata": {},
   "source": [
    "##### Cálculo da espessura da chapa de cabeça"
   ]
  },
  {
   "cell_type": "code",
   "execution_count": 32,
   "metadata": {},
   "outputs": [
    {
     "data": {
      "text/plain": [
       "6.35"
      ]
     },
     "execution_count": 32,
     "metadata": {},
     "output_type": "execute_result"
    }
   ],
   "source": [
    "rigida = 1\n",
    "\n",
    "r_parafuso_total = resistencia_total(parafuso,gamma)\n",
    "\n",
    "s_p_m =solicitante_parafuso_momento(M,chapa.B,ver_parafuso, parafuso , S[0])\n",
    "s_p_t = solicitante_parafuso_tração(T,N_parafusos)\n",
    "\n",
    "\n",
    "exp = exp_placa(aço_escolhido, chapa, rigida, ver_parafuso, parafuso.diametro_mm, r_parafuso_total,(s_p_m + s_p_t),gamma)\n",
    "\n",
    "exp"
   ]
  },
  {
   "cell_type": "markdown",
   "metadata": {},
   "source": [
    "##### Cálculo da espessura do filete de solda na alma e na mesa"
   ]
  },
  {
   "cell_type": "code",
   "execution_count": 33,
   "metadata": {},
   "outputs": [
    {
     "data": {
      "text/plain": [
       "5"
      ]
     },
     "execution_count": 33,
     "metadata": {},
     "output_type": "execute_result"
    }
   ],
   "source": [
    "espessura= espessura_solda(M,V,T,solda_escolhida,perfil_escolhido,exp,True,gamma)\n",
    "\n",
    "esp = math.ceil(espessura) #mm\n",
    "\n",
    "esp"
   ]
  },
  {
   "cell_type": "markdown",
   "metadata": {},
   "source": [
    "##### Abertura do projeto no pyautocad"
   ]
  },
  {
   "cell_type": "code",
   "execution_count": 34,
   "metadata": {},
   "outputs": [
    {
     "name": "stdout",
     "output_type": "stream",
     "text": [
      "Hello, Autocad from Python\n",
      "\n",
      "Desenho3.dwg\n"
     ]
    }
   ],
   "source": [
    "acad = Autocad(create_if_not_exists=True)\n",
    "acad.prompt(\"Hello, Autocad from Python\\n\")\n",
    "print(acad.doc.Name)"
   ]
  },
  {
   "cell_type": "code",
   "execution_count": 35,
   "metadata": {},
   "outputs": [
    {
     "name": "stdout",
     "output_type": "stream",
     "text": [
      "✅ Desenho limpo com sucesso.\n"
     ]
    }
   ],
   "source": [
    "limpar_desenho(acad)"
   ]
  },
  {
   "cell_type": "code",
   "execution_count": 36,
   "metadata": {},
   "outputs": [],
   "source": [
    "pontos_hexagono = gerar_pontos_hexagono(parafuso.diametro_mm)"
   ]
  },
  {
   "cell_type": "code",
   "execution_count": 37,
   "metadata": {},
   "outputs": [],
   "source": [
    "# Chamando a função para desenhar a chapa 3D\n",
    "objetos_chapa = criar_chapa_3d(acad, chapa.df, exp)"
   ]
  },
  {
   "cell_type": "code",
   "execution_count": 38,
   "metadata": {},
   "outputs": [],
   "source": [
    "objetos_parafusos=[]\n",
    "for i in range(ver_parafuso.shape[0]):\n",
    "    x_centro = ver_parafuso.iat[i, 1]\n",
    "    y_centro = ver_parafuso.iat[i, 2]\n",
    "\n",
    "    # Adicionar circunferência no ponto\n",
    "    obj = acad.model.AddCircle(APoint(x_centro, y_centro,exp), parafuso.diametro_mm / 2)\n",
    "    objetos_parafusos.append(obj)\n",
    "    obj = acad.model.AddCircle(APoint(x_centro, y_centro,0), parafuso.diametro_mm / 2)\n",
    "    objetos_parafusos.append(obj)\n",
    "    # Transladar hexágono para o ponto atual\n",
    "    hexagono_transladado = transladar_pontos(pontos_hexagono, x_centro, y_centro, exp)\n",
    "\n",
    "    for j in range(len(hexagono_transladado) - 1):\n",
    "        p1 = APoint(*hexagono_transladado[j])\n",
    "        p2 = APoint(*hexagono_transladado[j + 1])\n",
    "        obj = acad.model.AddLine(p1, p2)\n",
    "        objetos_parafusos.append(obj)"
   ]
  },
  {
   "cell_type": "code",
   "execution_count": 39,
   "metadata": {},
   "outputs": [],
   "source": [
    "objetos_secao_perfil = desenhar_secao_perfil(acad, perfil_escolhido, (chapa.B / 2) - (perfil_escolhido.b_f / 2), posicao_y=20, altura_z=exp)"
   ]
  },
  {
   "cell_type": "code",
   "execution_count": 40,
   "metadata": {},
   "outputs": [],
   "source": [
    "# Rotacionar apenas a seção do perfil:\n",
    "for obj in objetos_parafusos:\n",
    "    obj.Rotate3D(APoint(0, 0, 0), APoint(1,0, 0), math.radians(90))\n",
    "    obj.Rotate3D(APoint(0, 0, 0), APoint(0,0, 1), math.radians(90))\n",
    "\n",
    "for obj in objetos_chapa:\n",
    "    obj.Rotate3D(APoint(0, 0, 0), APoint(1,0, 0), math.radians(90))\n",
    "    obj.Rotate3D(APoint(0, 0, 0), APoint(0,0, 1), math.radians(90))\n",
    "\n",
    "for obj in objetos_secao_perfil:\n",
    "    obj.Rotate3D(APoint(0, 0, 0), APoint(1,0, 0), math.radians(90))\n",
    "    obj.Rotate3D(APoint(0, 0, 0), APoint(0,0, 1), math.radians(90))\n",
    "\n",
    "# Vetor de translação (exemplo: mover 100 mm no eixo X)\n",
    "dx, dy, dz = 0,-perfil_escolhido.b_f/2,0  # ajuste aqui conforme necessário\n",
    "\n",
    "# Aponta o vetor de deslocamento\n",
    "vetor = APoint(dx, dy, dz)\n",
    "\n",
    "for obj in objetos_secao_perfil:\n",
    "    obj.Move(APoint(0,0,0),vetor)\n",
    "\n",
    "\n",
    "for obj in objetos_chapa:\n",
    "    obj.Move(APoint(0,0,0),vetor)\n",
    "\n",
    "\n",
    "for obj in objetos_parafusos:\n",
    "    obj.Move(APoint(0,0,0),vetor)"
   ]
  },
  {
   "cell_type": "code",
   "execution_count": 41,
   "metadata": {},
   "outputs": [],
   "source": [
    "escrever_descricao(acad,0,0,max(chapa.df[\"y (mm)\"])+10 ,\"Chapa\",\"\",perfil_escolhido.nome,esp)"
   ]
  }
 ],
 "metadata": {
  "kernelspec": {
   "display_name": "Python 3",
   "language": "python",
   "name": "python3"
  },
  "language_info": {
   "codemirror_mode": {
    "name": "ipython",
    "version": 3
   },
   "file_extension": ".py",
   "mimetype": "text/x-python",
   "name": "python",
   "nbconvert_exporter": "python",
   "pygments_lexer": "ipython3",
   "version": "3.11.2"
  }
 },
 "nbformat": 4,
 "nbformat_minor": 2
}
