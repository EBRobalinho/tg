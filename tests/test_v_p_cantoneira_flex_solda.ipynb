{
 "cells": [
  {
   "cell_type": "markdown",
   "metadata": {},
   "source": [
    "### Bibliotecas Utilizadas"
   ]
  },
  {
   "cell_type": "code",
   "execution_count": 27,
   "metadata": {},
   "outputs": [],
   "source": [
    "#Importar bibliotecas do sistemas\n",
    "import sys\n",
    "import os\n",
    "\n",
    "# Caminho absoluto até a pasta src\n",
    "sys.path.append(os.path.abspath(\"../src\"))\n",
    "\n",
    "#Importar libs do python\n",
    "import pandas as pd \n",
    "import numpy as np \n",
    "import math\n",
    "from pyautocad import Autocad, APoint \n",
    "\n",
    "#Importar libs do programa\n",
    "import design_functions\n",
    "from v_p_cantoneira_flex.v_p_cantoneira_flex_solda import dim_cant_solda\n",
    "from draw_autocad.draw_autocad_figures import *\n",
    "from materials import * "
   ]
  },
  {
   "cell_type": "markdown",
   "metadata": {},
   "source": [
    "### Dimensionamento da ligação"
   ]
  },
  {
   "cell_type": "markdown",
   "metadata": {},
   "source": [
    "#### Tipos de Aço escolhidos para o perfil"
   ]
  },
  {
   "cell_type": "code",
   "execution_count": 28,
   "metadata": {},
   "outputs": [],
   "source": [
    "aço_escolhido = ASTM_A572\n",
    "\n",
    "aço_escolhido_cantoneira = ASTM_A36"
   ]
  },
  {
   "cell_type": "markdown",
   "metadata": {},
   "source": [
    "#### Propriedades geométricas do Perfil"
   ]
  },
  {
   "cell_type": "code",
   "execution_count": 29,
   "metadata": {},
   "outputs": [],
   "source": [
    "perfil_escolhido = W_610x125_0\n",
    "perfil_escolhido.inercias()\n",
    "perfil_escolhido.material(aço_escolhido)"
   ]
  },
  {
   "cell_type": "markdown",
   "metadata": {},
   "source": [
    "#### Propriedades  dos Parafusos"
   ]
  },
  {
   "cell_type": "code",
   "execution_count": 30,
   "metadata": {},
   "outputs": [],
   "source": [
    "solda_escolhida = E70XX"
   ]
  },
  {
   "cell_type": "markdown",
   "metadata": {},
   "source": [
    "#### Esforços solicitantes e solução"
   ]
  },
  {
   "cell_type": "code",
   "execution_count": 31,
   "metadata": {},
   "outputs": [],
   "source": [
    "V = 572 #kN\n",
    "\n",
    "T = 73 #kN\n",
    "\n",
    "\n",
    "S = dim_cant_solda(T,V,cantoneiras_dict,aço_escolhido_cantoneira,perfil_escolhido,solda_escolhida,True,gamma)"
   ]
  },
  {
   "cell_type": "code",
   "execution_count": 32,
   "metadata": {},
   "outputs": [],
   "source": [
    "cantoneira_escolhida = S[0]\n",
    "espessura = S[1]"
   ]
  },
  {
   "cell_type": "code",
   "execution_count": 33,
   "metadata": {},
   "outputs": [],
   "source": [
    "ver_chapa = cantoneira_escolhida.disp_vertices_chapa"
   ]
  },
  {
   "cell_type": "markdown",
   "metadata": {},
   "source": [
    "### Criação do desenho"
   ]
  },
  {
   "cell_type": "code",
   "execution_count": 34,
   "metadata": {},
   "outputs": [
    {
     "name": "stdout",
     "output_type": "stream",
     "text": [
      "Hello, Autocad from Python\n",
      "\n",
      "Drawing1.dwg\n"
     ]
    }
   ],
   "source": [
    "acad = Autocad(create_if_not_exists=True)\n",
    "acad.prompt(\"Hello, Autocad from Python\\n\")\n",
    "print(acad.doc.Name)"
   ]
  },
  {
   "cell_type": "code",
   "execution_count": 35,
   "metadata": {},
   "outputs": [
    {
     "name": "stdout",
     "output_type": "stream",
     "text": [
      "✅ Desenho limpo com sucesso.\n"
     ]
    }
   ],
   "source": [
    "limpar_desenho(acad)"
   ]
  },
  {
   "cell_type": "markdown",
   "metadata": {},
   "source": [
    "#### Desenhar a cantoneira"
   ]
  },
  {
   "cell_type": "code",
   "execution_count": 36,
   "metadata": {},
   "outputs": [],
   "source": [
    "objetos_s_cantoneira = desenhar_s_cantoneira(acad, cantoneira_escolhida, ver_chapa)"
   ]
  },
  {
   "cell_type": "markdown",
   "metadata": {},
   "source": [
    "#### Desenhar seção das cantoneiras"
   ]
  },
  {
   "cell_type": "code",
   "execution_count": 37,
   "metadata": {},
   "outputs": [],
   "source": [
    "# Vetor de translação (exemplo: mover 100 mm no eixo X)\n",
    "dx, dy, dz = 10, perfil_escolhido.t_w/2, (perfil_escolhido.h-cantoneira_escolhida.comprimento)/2  # ajuste aqui conforme necessário\n",
    "\n",
    "# Aponta o vetor de deslocamento\n",
    "vetor = APoint(dx, dy, dz)\n",
    "\n",
    "# Aplica a translação a todos os objetos na lista\n",
    "for obj in objetos_s_cantoneira:\n",
    "    obj.Move(APoint(0,0,0),vetor) \n",
    "    obj.Mirror(APoint(1, 0, 0), APoint(0, 0, 0))"
   ]
  },
  {
   "cell_type": "markdown",
   "metadata": {},
   "source": [
    "#### Desenhar seção do perfil"
   ]
  },
  {
   "cell_type": "code",
   "execution_count": 38,
   "metadata": {},
   "outputs": [],
   "source": [
    "objetos_secao_perfil = desenhar_secao_perfil(acad, perfil_escolhido, posicao_x=-perfil_escolhido.b_f/2, posicao_y=-perfil_escolhido.h/2, altura_z=0)\n",
    "\n",
    "# Rotacionar apenas a seção do perfil:\n",
    "for obj in objetos_secao_perfil:\n",
    "    obj.Rotate3D(APoint(0, 0, 0), APoint(1,0, 0), math.radians(90))\n",
    "    obj.Rotate3D(APoint(0, 0, 0), APoint(0,0, 1), math.radians(90))\n",
    "\n",
    "# Vetor de translação (exemplo: mover 100 mm no eixo X)\n",
    "dx, dy, dz = 0,0,perfil_escolhido.h/2  # ajuste aqui conforme necessário\n",
    "\n",
    "# Aponta o vetor de deslocamento\n",
    "vetor = APoint(dx, dy, dz)\n",
    "\n",
    "for obj in objetos_secao_perfil:\n",
    "    obj.Move(APoint(0,0,0),vetor)"
   ]
  },
  {
   "cell_type": "code",
   "execution_count": 39,
   "metadata": {},
   "outputs": [],
   "source": [
    "escrever_descricao(acad,0,0,perfil_escolhido.h + 10 ,\"Cantoneira\",cantoneira_escolhida.nome, perfil_escolhido.nome,espessura)"
   ]
  }
 ],
 "metadata": {
  "kernelspec": {
   "display_name": "Python 3",
   "language": "python",
   "name": "python3"
  },
  "language_info": {
   "codemirror_mode": {
    "name": "ipython",
    "version": 3
   },
   "file_extension": ".py",
   "mimetype": "text/x-python",
   "name": "python",
   "nbconvert_exporter": "python",
   "pygments_lexer": "ipython3",
   "version": "3.13.2"
  }
 },
 "nbformat": 4,
 "nbformat_minor": 2
}
