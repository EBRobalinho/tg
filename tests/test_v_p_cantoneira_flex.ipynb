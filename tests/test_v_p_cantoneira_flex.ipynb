{
 "cells": [
  {
   "cell_type": "markdown",
   "metadata": {},
   "source": [
    "### Bibliotecas Utilizadas"
   ]
  },
  {
   "cell_type": "code",
   "execution_count": 1,
   "metadata": {},
   "outputs": [],
   "source": [
    "import win32com.client\n",
    "import sys\n",
    "import os\n",
    "# Caminho absoluto até a pasta src\n",
    "sys.path.append(os.path.abspath(\"../src\"))\n",
    "\n",
    "#Importar libs do python\n",
    "import pandas as pd \n",
    "import numpy as np \n",
    "import math\n",
    "from pyautocad import Autocad, APoint \n",
    "import time\n",
    "\n",
    "#Importar libs do programa\n",
    "import design_functions\n",
    "from v_p_cantoneira_flex.v_p_cantoneira_flex  import dim_cant_parafuso\n",
    "from draw_autocad.draw_autocad_figures import *\n",
    "from materials import * "
   ]
  },
  {
   "cell_type": "markdown",
   "metadata": {},
   "source": [
    "### Dimensionamento da ligação"
   ]
  },
  {
   "cell_type": "markdown",
   "metadata": {},
   "source": [
    "#### Tipos de Aço escolhidos para o perfil"
   ]
  },
  {
   "cell_type": "code",
   "execution_count": 2,
   "metadata": {},
   "outputs": [],
   "source": [
    "aço_escolhido = ASTM_A572\n",
    "\n",
    "aço_escolhido_cantoneira = ASTM_A36"
   ]
  },
  {
   "cell_type": "markdown",
   "metadata": {},
   "source": [
    "#### Propriedades geométricas do Perfil"
   ]
  },
  {
   "cell_type": "code",
   "execution_count": 3,
   "metadata": {},
   "outputs": [],
   "source": [
    "perfil_escolhido = W_150x13_0\n",
    "perfil_escolhido.inercias()\n",
    "perfil_escolhido.material(aço_escolhido)"
   ]
  },
  {
   "cell_type": "markdown",
   "metadata": {},
   "source": [
    "#### Propriedades  dos Parafusos"
   ]
  },
  {
   "cell_type": "code",
   "execution_count": 4,
   "metadata": {},
   "outputs": [],
   "source": [
    "parafuso = ASTM_A325\n",
    "parafuso.prop_geometricas(rosca = 1,planos_de_corte =2)\n",
    "diametros = diametros_A325\n",
    "#Escolha da quantidade de parafusos\n",
    "n_p_min=1\n",
    "n_p_max = np.floor((perfil_escolhido.h_w-2*30)/60)  # 6.5 é a média do espaçamento entre os parafusos\n",
    "N_parafusos = 2 "
   ]
  },
  {
   "cell_type": "code",
   "execution_count": 5,
   "metadata": {},
   "outputs": [
    {
     "data": {
      "text/plain": [
       "2"
      ]
     },
     "execution_count": 5,
     "metadata": {},
     "output_type": "execute_result"
    }
   ],
   "source": [
    "N_parafusos"
   ]
  },
  {
   "cell_type": "markdown",
   "metadata": {},
   "source": [
    "#### Esforços solicitantes e solução"
   ]
  },
  {
   "cell_type": "code",
   "execution_count": 7,
   "metadata": {},
   "outputs": [],
   "source": [
    "V = 72 #kN\n",
    "\n",
    "T = 0 #kN\n",
    "\n",
    "\n",
    "S = dim_cant_parafuso(T,V,cantoneiras_dict,aço_escolhido_cantoneira,perfil_escolhido,parafuso,N_parafusos,gamma)"
   ]
  },
  {
   "cell_type": "code",
   "execution_count": 8,
   "metadata": {},
   "outputs": [
    {
     "data": {
      "text/plain": [
       "[<class_materials.Cantoneira at 0x1838fb50680>,\n",
       " <class_materials.Parafuso at 0x1838fa91d10>]"
      ]
     },
     "execution_count": 8,
     "metadata": {},
     "output_type": "execute_result"
    }
   ],
   "source": [
    "S"
   ]
  },
  {
   "cell_type": "code",
   "execution_count": 13,
   "metadata": {},
   "outputs": [],
   "source": [
    "cantoneira_escolhida = S[0]\n",
    "parafuso = S[1]"
   ]
  },
  {
   "cell_type": "code",
   "execution_count": 14,
   "metadata": {},
   "outputs": [
    {
     "data": {
      "text/plain": [
       "'L_3x3/16'"
      ]
     },
     "execution_count": 14,
     "metadata": {},
     "output_type": "execute_result"
    }
   ],
   "source": [
    "cantoneira_escolhida.nome"
   ]
  },
  {
   "cell_type": "code",
   "execution_count": 15,
   "metadata": {},
   "outputs": [
    {
     "data": {
      "text/plain": [
       "'1/2'"
      ]
     },
     "execution_count": 15,
     "metadata": {},
     "output_type": "execute_result"
    }
   ],
   "source": [
    "parafuso.diametro_pol"
   ]
  },
  {
   "cell_type": "code",
   "execution_count": 16,
   "metadata": {},
   "outputs": [],
   "source": [
    "ver_parafuso = cantoneira_escolhida.disp_parafusos\n",
    "ver_chapa = cantoneira_escolhida.disp_vertices_chapa"
   ]
  },
  {
   "cell_type": "code",
   "execution_count": 17,
   "metadata": {},
   "outputs": [
    {
     "data": {
      "application/vnd.microsoft.datawrangler.viewer.v0+json": {
       "columns": [
        {
         "name": "index",
         "rawType": "int64",
         "type": "integer"
        },
        {
         "name": "parafuso",
         "rawType": "int64",
         "type": "integer"
        },
        {
         "name": "x (mm)",
         "rawType": "int64",
         "type": "integer"
        },
        {
         "name": "y (mm)",
         "rawType": "float64",
         "type": "float"
        },
        {
         "name": "z (mm)",
         "rawType": "int64",
         "type": "integer"
        }
       ],
       "conversionMethod": "pd.DataFrame",
       "ref": "044eba27-9996-42c6-9746-91bc3b67efe3",
       "rows": [
        [
         "0",
         "1",
         "45",
         "4.762499999999999",
         "40"
        ],
        [
         "1",
         "2",
         "45",
         "4.762499999999999",
         "115"
        ],
        [
         "2",
         "3",
         "45",
         "4.762499999999999",
         "190"
        ],
        [
         "3",
         "4",
         "45",
         "4.762499999999999",
         "265"
        ]
       ],
       "shape": {
        "columns": 4,
        "rows": 4
       }
      },
      "text/html": [
       "<div>\n",
       "<style scoped>\n",
       "    .dataframe tbody tr th:only-of-type {\n",
       "        vertical-align: middle;\n",
       "    }\n",
       "\n",
       "    .dataframe tbody tr th {\n",
       "        vertical-align: top;\n",
       "    }\n",
       "\n",
       "    .dataframe thead th {\n",
       "        text-align: right;\n",
       "    }\n",
       "</style>\n",
       "<table border=\"1\" class=\"dataframe\">\n",
       "  <thead>\n",
       "    <tr style=\"text-align: right;\">\n",
       "      <th></th>\n",
       "      <th>parafuso</th>\n",
       "      <th>x (mm)</th>\n",
       "      <th>y (mm)</th>\n",
       "      <th>z (mm)</th>\n",
       "    </tr>\n",
       "  </thead>\n",
       "  <tbody>\n",
       "    <tr>\n",
       "      <th>0</th>\n",
       "      <td>1</td>\n",
       "      <td>45</td>\n",
       "      <td>4.7625</td>\n",
       "      <td>40</td>\n",
       "    </tr>\n",
       "    <tr>\n",
       "      <th>1</th>\n",
       "      <td>2</td>\n",
       "      <td>45</td>\n",
       "      <td>4.7625</td>\n",
       "      <td>115</td>\n",
       "    </tr>\n",
       "    <tr>\n",
       "      <th>2</th>\n",
       "      <td>3</td>\n",
       "      <td>45</td>\n",
       "      <td>4.7625</td>\n",
       "      <td>190</td>\n",
       "    </tr>\n",
       "    <tr>\n",
       "      <th>3</th>\n",
       "      <td>4</td>\n",
       "      <td>45</td>\n",
       "      <td>4.7625</td>\n",
       "      <td>265</td>\n",
       "    </tr>\n",
       "  </tbody>\n",
       "</table>\n",
       "</div>"
      ],
      "text/plain": [
       "   parafuso  x (mm)  y (mm)  z (mm)\n",
       "0         1      45  4.7625      40\n",
       "1         2      45  4.7625     115\n",
       "2         3      45  4.7625     190\n",
       "3         4      45  4.7625     265"
      ]
     },
     "execution_count": 17,
     "metadata": {},
     "output_type": "execute_result"
    }
   ],
   "source": [
    "ver_parafuso"
   ]
  },
  {
   "cell_type": "markdown",
   "metadata": {},
   "source": [
    "##### Abertura do projeto no pyautocad"
   ]
  },
  {
   "cell_type": "code",
   "execution_count": 200,
   "metadata": {},
   "outputs": [],
   "source": [
    "# Cria instância do AutoCAD\n",
    "acad = win32com.client.Dispatch(\"AutoCAD.Application\")\n",
    "acad.Visible = True  # Garante que a janela fique visível"
   ]
  },
  {
   "cell_type": "code",
   "execution_count": 201,
   "metadata": {},
   "outputs": [],
   "source": [
    "# Aguarda 2 segundos\n",
    "time.sleep(2)"
   ]
  },
  {
   "cell_type": "markdown",
   "metadata": {},
   "source": [
    "### Criação do desenho"
   ]
  },
  {
   "cell_type": "code",
   "execution_count": 202,
   "metadata": {},
   "outputs": [
    {
     "name": "stdout",
     "output_type": "stream",
     "text": [
      "Hello, Autocad from Python\n",
      "\n",
      "Drawing1.dwg\n"
     ]
    }
   ],
   "source": [
    "acad = Autocad(create_if_not_exists=True)\n",
    "acad.prompt(\"Hello, Autocad from Python\\n\")\n",
    "print(acad.doc.Name)"
   ]
  },
  {
   "cell_type": "code",
   "execution_count": 203,
   "metadata": {},
   "outputs": [
    {
     "name": "stdout",
     "output_type": "stream",
     "text": [
      "✅ Desenho limpo com sucesso.\n"
     ]
    }
   ],
   "source": [
    "limpar_desenho(acad)"
   ]
  },
  {
   "cell_type": "markdown",
   "metadata": {},
   "source": [
    "#### Gerar coordenadas dos hexágonos"
   ]
  },
  {
   "cell_type": "code",
   "execution_count": 204,
   "metadata": {},
   "outputs": [],
   "source": [
    "pontos_hexagono = gerar_pontos_hexagono(parafuso.diametro_mm)"
   ]
  },
  {
   "cell_type": "markdown",
   "metadata": {},
   "source": [
    "#### Desenhar a cantoneira"
   ]
  },
  {
   "cell_type": "code",
   "execution_count": 205,
   "metadata": {},
   "outputs": [],
   "source": [
    "objetos_s_cantoneira = desenhar_s_cantoneira(acad, cantoneira_escolhida, ver_chapa)"
   ]
  },
  {
   "cell_type": "markdown",
   "metadata": {},
   "source": [
    "#### Desenhar os parafusos do plano XZ"
   ]
  },
  {
   "cell_type": "code",
   "execution_count": 206,
   "metadata": {},
   "outputs": [],
   "source": [
    "objetos_p1_cantoneira = []   \n",
    " # === Parafusos e hexágonos ===\n",
    "for i in range(ver_parafuso.shape[0]):\n",
    "    x_centro = ver_parafuso.iat[i, 1]\n",
    "    y_centro = ver_parafuso.iat[i, 2]\n",
    "    z_centro = ver_parafuso.iat[i, 3]\n",
    "\n",
    "    # Face do hexágono em X\n",
    "    obj1 = acad.model.AddCircle(APoint(x_centro, z_centro, -y_centro), parafuso.diametro_mm / 2)\n",
    "    obj1.Rotate3D(APoint(0, 0, 0), APoint(1, 0, 0), math.radians(90))\n",
    "    objetos_p1_cantoneira.append(obj1)\n",
    "\n",
    "    # Face traseira em X\n",
    "    obj2 = acad.model.AddCircle(APoint(x_centro, z_centro, 0), parafuso.diametro_mm / 2)\n",
    "    obj2.Rotate3D(APoint(0, 0, 0), APoint(1, 0, 0), math.radians(90))\n",
    "    objetos_p1_cantoneira.append(obj2)\n",
    "\n",
    "    # Hexágono desenhado com linhas\n",
    "    hexagono_transladado = transladar_pontos(pontos_hexagono, x_centro, z_centro, y_centro)\n",
    "\n",
    "    for j in range(len(hexagono_transladado) - 1):\n",
    "        p1 = APoint(hexagono_transladado[j][0], hexagono_transladado[j][1], -cantoneira_escolhida.t_mm)\n",
    "        p2 = APoint(hexagono_transladado[j + 1][0], hexagono_transladado[j + 1][1], -cantoneira_escolhida.t_mm)\n",
    "\n",
    "        linha = acad.model.AddLine(p1, p2)\n",
    "        linha.Rotate3D(APoint(0, 0, 0), APoint(1, 0, 0), math.radians(90))\n",
    "        objetos_p1_cantoneira.append(linha)"
   ]
  },
  {
   "cell_type": "markdown",
   "metadata": {},
   "source": [
    "#### Desenhar os parafusos do plano XY"
   ]
  },
  {
   "cell_type": "code",
   "execution_count": 207,
   "metadata": {},
   "outputs": [],
   "source": [
    "objetos_p2_cantoneira = []\n",
    "# === Parafusos e hexágonos ===\n",
    "for i in range(ver_parafuso.shape[0]):\n",
    "    x_centro = ver_parafuso.iat[i, 2]\n",
    "    y_centro = ver_parafuso.iat[i, 1]   #Muda a tabela considerando agora os parafusos do outro plano\n",
    "    z_centro = ver_parafuso.iat[i, 3]\n",
    "\n",
    "    # Face do hexágono em X\n",
    "    obj1 = acad.model.AddCircle(APoint(z_centro, y_centro, -x_centro), parafuso.diametro_mm / 2)\n",
    "    obj1.Rotate3D(APoint(0, 0, 0), APoint(0, 1, 0), math.radians(-90))\n",
    "    objetos_p2_cantoneira.append(obj1)\n",
    "\n",
    "    # Face traseira em X\n",
    "    obj2 = acad.model.AddCircle(APoint(z_centro, y_centro, 0), parafuso.diametro_mm / 2)\n",
    "    obj2.Rotate3D(APoint(0, 0, 0), APoint(0, 1, 0), math.radians(-90))\n",
    "    objetos_p2_cantoneira.append(obj2)\n",
    "\n",
    "    # Hexágono desenhado com linhas\n",
    "    hexagono_transladado = transladar_pontos(pontos_hexagono, z_centro, y_centro, -y_centro)\n",
    "\n",
    "    for j in range(len(hexagono_transladado) - 1):\n",
    "        p1 = APoint(hexagono_transladado[j][0], hexagono_transladado[j][1], -cantoneira_escolhida.t_mm)\n",
    "        p2 = APoint(hexagono_transladado[j + 1][0], hexagono_transladado[j + 1][1], -cantoneira_escolhida.t_mm)\n",
    "\n",
    "        linha = acad.model.AddLine(p1, p2)\n",
    "        linha.Rotate3D(APoint(0, 0, 0), APoint(0, 1, 0), math.radians(-90))\n",
    "        objetos_p2_cantoneira.append(linha)"
   ]
  },
  {
   "cell_type": "markdown",
   "metadata": {},
   "source": [
    "#### Desenhar seção das cantoneiras"
   ]
  },
  {
   "cell_type": "code",
   "execution_count": 208,
   "metadata": {},
   "outputs": [],
   "source": [
    "# Vetor de translação (exemplo: mover 100 mm no eixo X)\n",
    "dx, dy, dz = 10, perfil_escolhido.t_w/2, (perfil_escolhido.h-cantoneira_escolhida.comprimento)/2  # ajuste aqui conforme necessário\n",
    "\n",
    "# Aponta o vetor de deslocamento\n",
    "vetor = APoint(dx, dy, dz)\n",
    "\n",
    "# Aplica a translação a todos os objetos na lista\n",
    "for obj in objetos_s_cantoneira:\n",
    "    obj.Move(APoint(0,0,0),vetor) \n",
    "    obj.Mirror(APoint(1, 0, 0), APoint(0, 0, 0))\n",
    "for obj in objetos_p2_cantoneira:\n",
    "    obj.Move(APoint(0,0,0),vetor) \n",
    "    obj.Mirror(APoint(1, 0, 0), APoint(0, 0, 0))\n",
    "for obj in objetos_p1_cantoneira:\n",
    "    obj.Move(APoint(0,0,0),vetor) \n",
    "    obj.Mirror(APoint(1, 0, 0), APoint(0, 0, 0))"
   ]
  },
  {
   "cell_type": "markdown",
   "metadata": {},
   "source": [
    "#### Desenhar seção do perfil"
   ]
  },
  {
   "cell_type": "code",
   "execution_count": 209,
   "metadata": {},
   "outputs": [],
   "source": [
    "objetos_secao_perfil = desenhar_secao_perfil(acad, perfil_escolhido, posicao_x=-perfil_escolhido.b_f/2, posicao_y=-perfil_escolhido.h/2, altura_z=0)\n",
    "\n",
    "# Rotacionar apenas a seção do perfil:\n",
    "for obj in objetos_secao_perfil:\n",
    "    obj.Rotate3D(APoint(0, 0, 0), APoint(1,0, 0), math.radians(90))\n",
    "    obj.Rotate3D(APoint(0, 0, 0), APoint(0,0, 1), math.radians(90))\n",
    "\n",
    "# Vetor de translação (exemplo: mover 100 mm no eixo X)\n",
    "dx, dy, dz = 0,0,perfil_escolhido.h/2  # ajuste aqui conforme necessário\n",
    "\n",
    "# Aponta o vetor de deslocamento\n",
    "vetor = APoint(dx, dy, dz)\n",
    "\n",
    "for obj in objetos_secao_perfil:\n",
    "    obj.Move(APoint(0,0,0),vetor)"
   ]
  }
 ],
 "metadata": {
  "kernelspec": {
   "display_name": "Python 3",
   "language": "python",
   "name": "python3"
  },
  "language_info": {
   "codemirror_mode": {
    "name": "ipython",
    "version": 3
   },
   "file_extension": ".py",
   "mimetype": "text/x-python",
   "name": "python",
   "nbconvert_exporter": "python",
   "pygments_lexer": "ipython3",
   "version": "3.13.2"
  }
 },
 "nbformat": 4,
 "nbformat_minor": 2
}
