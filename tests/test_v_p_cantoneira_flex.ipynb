{
 "cells": [
  {
   "cell_type": "markdown",
   "metadata": {},
   "source": [
    "### Bibliotecas Utilizadas"
   ]
  },
  {
   "cell_type": "code",
   "execution_count": 1,
   "metadata": {},
   "outputs": [],
   "source": [
    "#Importar bibliotecas do sistemas\n",
    "import sys\n",
    "import os\n",
    "\n",
    "# Caminho absoluto até a pasta src\n",
    "sys.path.append(os.path.abspath(\"../src\"))\n",
    "\n",
    "#Importar libs do python\n",
    "import pandas as pd \n",
    "import numpy as np \n",
    "import math\n",
    "from pyautocad import Autocad, APoint \n",
    "\n",
    "#Importar libs do programa\n",
    "import design_functions\n",
    "from v_p_cantoneira_flex.v_p_cantoneira_flex  import dim_cant_parafuso\n",
    "from draw_autocad.draw_autocad_figures import *\n",
    "from materials import * "
   ]
  },
  {
   "cell_type": "markdown",
   "metadata": {},
   "source": [
    "### Dimensionamento da ligação"
   ]
  },
  {
   "cell_type": "markdown",
   "metadata": {},
   "source": [
    "#### Tipos de Aço escolhidos para o perfil"
   ]
  },
  {
   "cell_type": "code",
   "execution_count": 2,
   "metadata": {},
   "outputs": [],
   "source": [
    "aço_escolhido = ASTM_A572\n",
    "\n",
    "aço_escolhido_cantoneira = ASTM_A36"
   ]
  },
  {
   "cell_type": "markdown",
   "metadata": {},
   "source": [
    "#### Propriedades geométricas do Perfil"
   ]
  },
  {
   "cell_type": "code",
   "execution_count": 3,
   "metadata": {},
   "outputs": [],
   "source": [
    "perfil_escolhido = W_610x125_0\n",
    "perfil_escolhido.inercias()\n",
    "perfil_escolhido.material(aço_escolhido)"
   ]
  },
  {
   "cell_type": "markdown",
   "metadata": {},
   "source": [
    "#### Propriedades  dos Parafusos"
   ]
  },
  {
   "cell_type": "code",
   "execution_count": 4,
   "metadata": {},
   "outputs": [],
   "source": [
    "parafuso = ASTM_A325\n",
    "parafuso.prop_geometricas(rosca = 1,planos_de_corte =2)\n",
    "diametros = diametros_A325\n",
    "#Escolha da quantidade de parafusos\n",
    "n_p_min=1\n",
    "n_p_max = np.floor((perfil_escolhido.h_w-2*30)/67.5)  # 6.5 é a média do espaçamento entre os parafusos\n",
    "N_parafusos = 6 "
   ]
  },
  {
   "cell_type": "markdown",
   "metadata": {},
   "source": [
    "#### Esforços solicitantes e solução"
   ]
  },
  {
   "cell_type": "code",
   "execution_count": 5,
   "metadata": {},
   "outputs": [],
   "source": [
    "V = 852 #kN\n",
    "\n",
    "T = 0 #kN\n",
    "\n",
    "\n",
    "S = dim_cant_parafuso(T,V,cantoneiras_dict,aço_escolhido_cantoneira,perfil_escolhido,parafuso,diametros,N_parafusos,gamma)"
   ]
  },
  {
   "cell_type": "code",
   "execution_count": 6,
   "metadata": {},
   "outputs": [],
   "source": [
    "cantoneira_escolhida = S[0]\n",
    "parafuso = S[1]"
   ]
  },
  {
   "cell_type": "code",
   "execution_count": 7,
   "metadata": {},
   "outputs": [
    {
     "data": {
      "text/plain": [
       "'5/8'"
      ]
     },
     "execution_count": 7,
     "metadata": {},
     "output_type": "execute_result"
    }
   ],
   "source": [
    "parafuso.diametro_pol"
   ]
  },
  {
   "cell_type": "code",
   "execution_count": 8,
   "metadata": {},
   "outputs": [],
   "source": [
    "ver_parafuso = cantoneira_escolhida.disp_parafusos\n",
    "ver_chapa = cantoneira_escolhida.disp_vertices_chapa"
   ]
  },
  {
   "cell_type": "markdown",
   "metadata": {},
   "source": [
    "### Criação do desenho"
   ]
  },
  {
   "cell_type": "code",
   "execution_count": 9,
   "metadata": {},
   "outputs": [
    {
     "name": "stdout",
     "output_type": "stream",
     "text": [
      "Hello, Autocad from Python\n",
      "\n",
      "Desenho1.dwg\n"
     ]
    }
   ],
   "source": [
    "acad = Autocad(create_if_not_exists=True)\n",
    "acad.prompt(\"Hello, Autocad from Python\\n\")\n",
    "print(acad.doc.Name)"
   ]
  },
  {
   "cell_type": "code",
   "execution_count": 10,
   "metadata": {},
   "outputs": [
    {
     "name": "stdout",
     "output_type": "stream",
     "text": [
      "✅ Desenho limpo com sucesso.\n"
     ]
    }
   ],
   "source": [
    "limpar_desenho(acad)"
   ]
  },
  {
   "cell_type": "markdown",
   "metadata": {},
   "source": [
    "#### Gerar coordenadas dos hexágonos"
   ]
  },
  {
   "cell_type": "code",
   "execution_count": 11,
   "metadata": {},
   "outputs": [],
   "source": [
    "pontos_hexagono = gerar_pontos_hexagono(parafuso.diametro_mm)"
   ]
  },
  {
   "cell_type": "markdown",
   "metadata": {},
   "source": [
    "#### Desenhar a cantoneira"
   ]
  },
  {
   "cell_type": "code",
   "execution_count": 12,
   "metadata": {},
   "outputs": [],
   "source": [
    "objetos_s_cantoneira = desenhar_s_cantoneira(acad, cantoneira_escolhida, ver_chapa)"
   ]
  },
  {
   "cell_type": "markdown",
   "metadata": {},
   "source": [
    "#### Desenhar os parafusos do plano XZ"
   ]
  },
  {
   "cell_type": "code",
   "execution_count": 13,
   "metadata": {},
   "outputs": [],
   "source": [
    "objetos_p1_cantoneira = []   \n",
    " # === Parafusos e hexágonos ===\n",
    "for i in range(ver_parafuso.shape[0]):\n",
    "    x_centro = ver_parafuso.iat[i, 1]\n",
    "    y_centro = ver_parafuso.iat[i, 2]\n",
    "    z_centro = ver_parafuso.iat[i, 3]\n",
    "\n",
    "    # Face do hexágono em X\n",
    "    obj1 = acad.model.AddCircle(APoint(x_centro, z_centro, -y_centro), parafuso.diametro_mm / 2)\n",
    "    obj1.Rotate3D(APoint(0, 0, 0), APoint(1, 0, 0), math.radians(90))\n",
    "    objetos_p1_cantoneira.append(obj1)\n",
    "\n",
    "    # Face traseira em X\n",
    "    obj2 = acad.model.AddCircle(APoint(x_centro, z_centro, 0), parafuso.diametro_mm / 2)\n",
    "    obj2.Rotate3D(APoint(0, 0, 0), APoint(1, 0, 0), math.radians(90))\n",
    "    objetos_p1_cantoneira.append(obj2)\n",
    "\n",
    "    # Hexágono desenhado com linhas\n",
    "    hexagono_transladado = transladar_pontos(pontos_hexagono, x_centro, z_centro, y_centro)\n",
    "\n",
    "    for j in range(len(hexagono_transladado) - 1):\n",
    "        p1 = APoint(hexagono_transladado[j][0], hexagono_transladado[j][1], -cantoneira_escolhida.t_mm)\n",
    "        p2 = APoint(hexagono_transladado[j + 1][0], hexagono_transladado[j + 1][1], -cantoneira_escolhida.t_mm)\n",
    "\n",
    "        linha = acad.model.AddLine(p1, p2)\n",
    "        linha.Rotate3D(APoint(0, 0, 0), APoint(1, 0, 0), math.radians(90))\n",
    "        objetos_p1_cantoneira.append(linha)"
   ]
  },
  {
   "cell_type": "markdown",
   "metadata": {},
   "source": [
    "#### Desenhar os parafusos do plano XY"
   ]
  },
  {
   "cell_type": "code",
   "execution_count": 14,
   "metadata": {},
   "outputs": [],
   "source": [
    "objetos_p2_cantoneira = []\n",
    "# === Parafusos e hexágonos ===\n",
    "for i in range(ver_parafuso.shape[0]):\n",
    "    x_centro = ver_parafuso.iat[i, 2]\n",
    "    y_centro = ver_parafuso.iat[i, 1]   #Muda a tabela considerando agora os parafusos do outro plano\n",
    "    z_centro = ver_parafuso.iat[i, 3]\n",
    "\n",
    "    # Face do hexágono em X\n",
    "    obj1 = acad.model.AddCircle(APoint(z_centro, y_centro, -x_centro), parafuso.diametro_mm / 2)\n",
    "    obj1.Rotate3D(APoint(0, 0, 0), APoint(0, 1, 0), math.radians(-90))\n",
    "    objetos_p2_cantoneira.append(obj1)\n",
    "\n",
    "    # Face traseira em X\n",
    "    obj2 = acad.model.AddCircle(APoint(z_centro, y_centro, 0), parafuso.diametro_mm / 2)\n",
    "    obj2.Rotate3D(APoint(0, 0, 0), APoint(0, 1, 0), math.radians(-90))\n",
    "    objetos_p2_cantoneira.append(obj2)\n",
    "\n",
    "    # Hexágono desenhado com linhas\n",
    "    hexagono_transladado = transladar_pontos(pontos_hexagono, z_centro, y_centro, -y_centro)\n",
    "\n",
    "    for j in range(len(hexagono_transladado) - 1):\n",
    "        p1 = APoint(hexagono_transladado[j][0], hexagono_transladado[j][1], -cantoneira_escolhida.t_mm)\n",
    "        p2 = APoint(hexagono_transladado[j + 1][0], hexagono_transladado[j + 1][1], -cantoneira_escolhida.t_mm)\n",
    "\n",
    "        linha = acad.model.AddLine(p1, p2)\n",
    "        linha.Rotate3D(APoint(0, 0, 0), APoint(0, 1, 0), math.radians(-90))\n",
    "        objetos_p2_cantoneira.append(linha)"
   ]
  },
  {
   "cell_type": "markdown",
   "metadata": {},
   "source": [
    "#### Desenhar seção das cantoneiras"
   ]
  },
  {
   "cell_type": "code",
   "execution_count": 15,
   "metadata": {},
   "outputs": [],
   "source": [
    "# Vetor de translação (exemplo: mover 100 mm no eixo X)\n",
    "dx, dy, dz = 10, perfil_escolhido.t_w/2, (perfil_escolhido.h-cantoneira_escolhida.comprimento)/2  # ajuste aqui conforme necessário\n",
    "\n",
    "# Aponta o vetor de deslocamento\n",
    "vetor = APoint(dx, dy, dz)\n",
    "\n",
    "# Aplica a translação a todos os objetos na lista\n",
    "for obj in objetos_s_cantoneira:\n",
    "    obj.Move(APoint(0,0,0),vetor) \n",
    "    obj.Mirror(APoint(1, 0, 0), APoint(0, 0, 0))\n",
    "for obj in objetos_p2_cantoneira:\n",
    "    obj.Move(APoint(0,0,0),vetor) \n",
    "    obj.Mirror(APoint(1, 0, 0), APoint(0, 0, 0))\n",
    "for obj in objetos_p1_cantoneira:\n",
    "    obj.Move(APoint(0,0,0),vetor) \n",
    "    obj.Mirror(APoint(1, 0, 0), APoint(0, 0, 0))"
   ]
  },
  {
   "cell_type": "markdown",
   "metadata": {},
   "source": [
    "#### Desenhar seção do perfil"
   ]
  },
  {
   "cell_type": "code",
   "execution_count": 16,
   "metadata": {},
   "outputs": [],
   "source": [
    "objetos_secao_perfil = desenhar_secao_perfil(acad, perfil_escolhido, posicao_x=-perfil_escolhido.b_f/2, posicao_y=-perfil_escolhido.h/2, altura_z=0)\n",
    "\n",
    "# Rotacionar apenas a seção do perfil:\n",
    "for obj in objetos_secao_perfil:\n",
    "    obj.Rotate3D(APoint(0, 0, 0), APoint(1,0, 0), math.radians(90))\n",
    "    obj.Rotate3D(APoint(0, 0, 0), APoint(0,0, 1), math.radians(90))\n",
    "\n",
    "# Vetor de translação (exemplo: mover 100 mm no eixo X)\n",
    "dx, dy, dz = 0,0,perfil_escolhido.h/2  # ajuste aqui conforme necessário\n",
    "\n",
    "# Aponta o vetor de deslocamento\n",
    "vetor = APoint(dx, dy, dz)\n",
    "\n",
    "for obj in objetos_secao_perfil:\n",
    "    obj.Move(APoint(0,0,0),vetor)"
   ]
  }
 ],
 "metadata": {
  "kernelspec": {
   "display_name": "Python 3",
   "language": "python",
   "name": "python3"
  },
  "language_info": {
   "codemirror_mode": {
    "name": "ipython",
    "version": 3
   },
   "file_extension": ".py",
   "mimetype": "text/x-python",
   "name": "python",
   "nbconvert_exporter": "python",
   "pygments_lexer": "ipython3",
   "version": "3.11.2"
  }
 },
 "nbformat": 4,
 "nbformat_minor": 2
}
