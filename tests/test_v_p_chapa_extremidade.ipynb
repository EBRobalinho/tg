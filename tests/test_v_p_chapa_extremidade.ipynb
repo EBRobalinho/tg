{
 "cells": [
  {
   "cell_type": "code",
   "execution_count": 6,
   "metadata": {},
   "outputs": [],
   "source": [
    "#Importar bibliotecas do sistemas\n",
    "import sys\n",
    "import os\n",
    "\n",
    "# Caminho absoluto até a pasta src\n",
    "sys.path.append(os.path.abspath(\"../src\"))\n",
    "\n",
    "#Importar libs do python\n",
    "import pandas as pd \n",
    "import numpy as np \n",
    "import math\n",
    "from pyautocad import Autocad, APoint \n",
    "\n",
    "#Importar libs do programa \n",
    "import design_functions\n",
    "from v_p_chapa_extremidade.v_p_chapa_extremidade import *\n",
    "from draw_autocad.draw_autocad_figures import *\n",
    "from materials import * "
   ]
  },
  {
   "cell_type": "code",
   "execution_count": 7,
   "metadata": {},
   "outputs": [],
   "source": [
    "perfil_escolhido = W_530x101_0\n",
    "\n",
    "\n",
    "aço_escolhido = ASTM_A36\n",
    "\n",
    "solda_escolhida =E70XX\n",
    "\n",
    "perfil_escolhido.inercias()\n",
    "perfil_escolhido.material(aço_escolhido)\n"
   ]
  },
  {
   "cell_type": "code",
   "execution_count": 8,
   "metadata": {},
   "outputs": [],
   "source": [
    "M = 0 #kN.mm \n",
    "\n",
    "V = 499 #kN\n",
    "\n",
    "T = 0 #kN\n",
    "\n",
    "parafuso = ASTM_A325\n",
    "parafuso.prop_geometricas(rosca = 1,planos_de_corte =1)"
   ]
  },
  {
   "cell_type": "code",
   "execution_count": 9,
   "metadata": {},
   "outputs": [],
   "source": [
    "rigida =1\n",
    "\n",
    "filete_duplo =2 \n",
    "\n",
    "[chapa,exp,parafuso,ver_parafuso,solda,esp_solda] = dim_chapa_parafuso(V,T,perfil_escolhido,parafuso,aço_escolhido,espessuras_mm,rigida,solda_escolhida,filete_duplo,gamma)"
   ]
  },
  {
   "cell_type": "code",
   "execution_count": 10,
   "metadata": {},
   "outputs": [
    {
     "data": {
      "application/vnd.microsoft.datawrangler.viewer.v0+json": {
       "columns": [
        {
         "name": "index",
         "rawType": "int64",
         "type": "integer"
        },
        {
         "name": "vértice",
         "rawType": "int64",
         "type": "integer"
        },
        {
         "name": "x (mm)",
         "rawType": "int64",
         "type": "integer"
        },
        {
         "name": "y (mm)",
         "rawType": "float64",
         "type": "float"
        }
       ],
       "conversionMethod": "pd.DataFrame",
       "ref": "39104fc7-7c9c-40d1-b5be-ce315cfb152d",
       "rows": [
        [
         "0",
         "1",
         "0",
         "0.0"
        ],
        [
         "1",
         "2",
         "200",
         "0.0"
        ],
        [
         "2",
         "3",
         "200",
         "502.2"
        ],
        [
         "3",
         "4",
         "0",
         "502.2"
        ],
        [
         "4",
         "5",
         "0",
         "0.0"
        ]
       ],
       "shape": {
        "columns": 3,
        "rows": 5
       }
      },
      "text/html": [
       "<div>\n",
       "<style scoped>\n",
       "    .dataframe tbody tr th:only-of-type {\n",
       "        vertical-align: middle;\n",
       "    }\n",
       "\n",
       "    .dataframe tbody tr th {\n",
       "        vertical-align: top;\n",
       "    }\n",
       "\n",
       "    .dataframe thead th {\n",
       "        text-align: right;\n",
       "    }\n",
       "</style>\n",
       "<table border=\"1\" class=\"dataframe\">\n",
       "  <thead>\n",
       "    <tr style=\"text-align: right;\">\n",
       "      <th></th>\n",
       "      <th>vértice</th>\n",
       "      <th>x (mm)</th>\n",
       "      <th>y (mm)</th>\n",
       "    </tr>\n",
       "  </thead>\n",
       "  <tbody>\n",
       "    <tr>\n",
       "      <th>0</th>\n",
       "      <td>1</td>\n",
       "      <td>0</td>\n",
       "      <td>0.0</td>\n",
       "    </tr>\n",
       "    <tr>\n",
       "      <th>1</th>\n",
       "      <td>2</td>\n",
       "      <td>200</td>\n",
       "      <td>0.0</td>\n",
       "    </tr>\n",
       "    <tr>\n",
       "      <th>2</th>\n",
       "      <td>3</td>\n",
       "      <td>200</td>\n",
       "      <td>502.2</td>\n",
       "    </tr>\n",
       "    <tr>\n",
       "      <th>3</th>\n",
       "      <td>4</td>\n",
       "      <td>0</td>\n",
       "      <td>502.2</td>\n",
       "    </tr>\n",
       "    <tr>\n",
       "      <th>4</th>\n",
       "      <td>5</td>\n",
       "      <td>0</td>\n",
       "      <td>0.0</td>\n",
       "    </tr>\n",
       "  </tbody>\n",
       "</table>\n",
       "</div>"
      ],
      "text/plain": [
       "   vértice  x (mm)  y (mm)\n",
       "0        1       0     0.0\n",
       "1        2     200     0.0\n",
       "2        3     200   502.2\n",
       "3        4       0   502.2\n",
       "4        5       0     0.0"
      ]
     },
     "execution_count": 10,
     "metadata": {},
     "output_type": "execute_result"
    }
   ],
   "source": [
    "chapa.df"
   ]
  },
  {
   "cell_type": "code",
   "execution_count": 11,
   "metadata": {},
   "outputs": [
    {
     "data": {
      "text/plain": [
       "482.2"
      ]
     },
     "execution_count": 11,
     "metadata": {},
     "output_type": "execute_result"
    }
   ],
   "source": [
    "perfil_escolhido.h_w"
   ]
  },
  {
   "cell_type": "code",
   "execution_count": 12,
   "metadata": {},
   "outputs": [
    {
     "data": {
      "text/plain": [
       "6.35"
      ]
     },
     "execution_count": 12,
     "metadata": {},
     "output_type": "execute_result"
    }
   ],
   "source": [
    "exp"
   ]
  },
  {
   "cell_type": "code",
   "execution_count": 13,
   "metadata": {},
   "outputs": [
    {
     "data": {
      "text/plain": [
       "19.049999999999997"
      ]
     },
     "execution_count": 13,
     "metadata": {},
     "output_type": "execute_result"
    }
   ],
   "source": [
    "parafuso.diametro_mm"
   ]
  },
  {
   "cell_type": "code",
   "execution_count": 14,
   "metadata": {},
   "outputs": [
    {
     "data": {
      "application/vnd.microsoft.datawrangler.viewer.v0+json": {
       "columns": [
        {
         "name": "index",
         "rawType": "int64",
         "type": "integer"
        },
        {
         "name": "parafuso",
         "rawType": "int64",
         "type": "integer"
        },
        {
         "name": "x (mm)",
         "rawType": "int64",
         "type": "integer"
        },
        {
         "name": "y (mm)",
         "rawType": "int64",
         "type": "integer"
        }
       ],
       "conversionMethod": "pd.DataFrame",
       "ref": "c5fe8a2a-cca8-415b-90ad-f0bce7a983f7",
       "rows": [
        [
         "0",
         "1",
         "40",
         "25"
        ],
        [
         "1",
         "2",
         "160",
         "25"
        ],
        [
         "2",
         "3",
         "40",
         "100"
        ],
        [
         "3",
         "4",
         "160",
         "100"
        ],
        [
         "4",
         "5",
         "40",
         "175"
        ],
        [
         "5",
         "6",
         "160",
         "175"
        ],
        [
         "6",
         "7",
         "40",
         "250"
        ],
        [
         "7",
         "8",
         "160",
         "250"
        ],
        [
         "8",
         "9",
         "40",
         "325"
        ],
        [
         "9",
         "10",
         "160",
         "325"
        ],
        [
         "10",
         "11",
         "40",
         "400"
        ],
        [
         "11",
         "12",
         "160",
         "400"
        ],
        [
         "12",
         "13",
         "40",
         "475"
        ],
        [
         "13",
         "14",
         "160",
         "475"
        ]
       ],
       "shape": {
        "columns": 3,
        "rows": 14
       }
      },
      "text/html": [
       "<div>\n",
       "<style scoped>\n",
       "    .dataframe tbody tr th:only-of-type {\n",
       "        vertical-align: middle;\n",
       "    }\n",
       "\n",
       "    .dataframe tbody tr th {\n",
       "        vertical-align: top;\n",
       "    }\n",
       "\n",
       "    .dataframe thead th {\n",
       "        text-align: right;\n",
       "    }\n",
       "</style>\n",
       "<table border=\"1\" class=\"dataframe\">\n",
       "  <thead>\n",
       "    <tr style=\"text-align: right;\">\n",
       "      <th></th>\n",
       "      <th>parafuso</th>\n",
       "      <th>x (mm)</th>\n",
       "      <th>y (mm)</th>\n",
       "    </tr>\n",
       "  </thead>\n",
       "  <tbody>\n",
       "    <tr>\n",
       "      <th>0</th>\n",
       "      <td>1</td>\n",
       "      <td>40</td>\n",
       "      <td>25</td>\n",
       "    </tr>\n",
       "    <tr>\n",
       "      <th>1</th>\n",
       "      <td>2</td>\n",
       "      <td>160</td>\n",
       "      <td>25</td>\n",
       "    </tr>\n",
       "    <tr>\n",
       "      <th>2</th>\n",
       "      <td>3</td>\n",
       "      <td>40</td>\n",
       "      <td>100</td>\n",
       "    </tr>\n",
       "    <tr>\n",
       "      <th>3</th>\n",
       "      <td>4</td>\n",
       "      <td>160</td>\n",
       "      <td>100</td>\n",
       "    </tr>\n",
       "    <tr>\n",
       "      <th>4</th>\n",
       "      <td>5</td>\n",
       "      <td>40</td>\n",
       "      <td>175</td>\n",
       "    </tr>\n",
       "    <tr>\n",
       "      <th>5</th>\n",
       "      <td>6</td>\n",
       "      <td>160</td>\n",
       "      <td>175</td>\n",
       "    </tr>\n",
       "    <tr>\n",
       "      <th>6</th>\n",
       "      <td>7</td>\n",
       "      <td>40</td>\n",
       "      <td>250</td>\n",
       "    </tr>\n",
       "    <tr>\n",
       "      <th>7</th>\n",
       "      <td>8</td>\n",
       "      <td>160</td>\n",
       "      <td>250</td>\n",
       "    </tr>\n",
       "    <tr>\n",
       "      <th>8</th>\n",
       "      <td>9</td>\n",
       "      <td>40</td>\n",
       "      <td>325</td>\n",
       "    </tr>\n",
       "    <tr>\n",
       "      <th>9</th>\n",
       "      <td>10</td>\n",
       "      <td>160</td>\n",
       "      <td>325</td>\n",
       "    </tr>\n",
       "    <tr>\n",
       "      <th>10</th>\n",
       "      <td>11</td>\n",
       "      <td>40</td>\n",
       "      <td>400</td>\n",
       "    </tr>\n",
       "    <tr>\n",
       "      <th>11</th>\n",
       "      <td>12</td>\n",
       "      <td>160</td>\n",
       "      <td>400</td>\n",
       "    </tr>\n",
       "    <tr>\n",
       "      <th>12</th>\n",
       "      <td>13</td>\n",
       "      <td>40</td>\n",
       "      <td>475</td>\n",
       "    </tr>\n",
       "    <tr>\n",
       "      <th>13</th>\n",
       "      <td>14</td>\n",
       "      <td>160</td>\n",
       "      <td>475</td>\n",
       "    </tr>\n",
       "  </tbody>\n",
       "</table>\n",
       "</div>"
      ],
      "text/plain": [
       "    parafuso  x (mm)  y (mm)\n",
       "0          1      40      25\n",
       "1          2     160      25\n",
       "2          3      40     100\n",
       "3          4     160     100\n",
       "4          5      40     175\n",
       "5          6     160     175\n",
       "6          7      40     250\n",
       "7          8     160     250\n",
       "8          9      40     325\n",
       "9         10     160     325\n",
       "10        11      40     400\n",
       "11        12     160     400\n",
       "12        13      40     475\n",
       "13        14     160     475"
      ]
     },
     "execution_count": 14,
     "metadata": {},
     "output_type": "execute_result"
    }
   ],
   "source": [
    "ver_parafuso"
   ]
  },
  {
   "cell_type": "markdown",
   "metadata": {},
   "source": [
    "##### Abertura do projeto no pyautocad"
   ]
  },
  {
   "cell_type": "code",
   "execution_count": 15,
   "metadata": {},
   "outputs": [
    {
     "name": "stdout",
     "output_type": "stream",
     "text": [
      "Hello, Autocad from Python\n",
      "\n",
      "Drawing12.dwg\n"
     ]
    }
   ],
   "source": [
    "acad = Autocad(create_if_not_exists=True)\n",
    "acad.prompt(\"Hello, Autocad from Python\\n\")\n",
    "print(acad.doc.Name)"
   ]
  },
  {
   "cell_type": "code",
   "execution_count": 16,
   "metadata": {},
   "outputs": [
    {
     "name": "stdout",
     "output_type": "stream",
     "text": [
      "✅ Desenho limpo com sucesso.\n"
     ]
    }
   ],
   "source": [
    "limpar_desenho(acad)"
   ]
  },
  {
   "cell_type": "code",
   "execution_count": 17,
   "metadata": {},
   "outputs": [],
   "source": [
    "pontos_hexagono = gerar_pontos_hexagono(parafuso.diametro_mm)"
   ]
  },
  {
   "cell_type": "code",
   "execution_count": 18,
   "metadata": {},
   "outputs": [],
   "source": [
    "# Chamando a função para desenhar a chapa 3D\n",
    "objetos_chapa = criar_chapa_3d(acad, chapa.df, exp)"
   ]
  },
  {
   "cell_type": "code",
   "execution_count": 19,
   "metadata": {},
   "outputs": [],
   "source": [
    "py = (perfil_escolhido.t_f)\n",
    "objetos_secao_perfil = desenhar_secao_perfil(acad, perfil_escolhido, (chapa.B / 2) - (perfil_escolhido.b_f / 2), posicao_y=(-py), altura_z=exp)"
   ]
  },
  {
   "cell_type": "code",
   "execution_count": 20,
   "metadata": {},
   "outputs": [],
   "source": [
    "objetos_parafusos=[]\n",
    "for i in range(ver_parafuso.shape[0]):\n",
    "    x_centro = ver_parafuso.iat[i, 1]\n",
    "    y_centro = ver_parafuso.iat[i, 2]\n",
    "\n",
    "    # Adicionar circunferência no ponto\n",
    "    obj = acad.model.AddCircle(APoint(x_centro, y_centro,exp), parafuso.diametro_mm / 2)\n",
    "    objetos_parafusos.append(obj)\n",
    "    obj = acad.model.AddCircle(APoint(x_centro, y_centro,0), parafuso.diametro_mm / 2)\n",
    "    objetos_parafusos.append(obj)\n",
    "    # Transladar hexágono para o ponto atual\n",
    "    hexagono_transladado = transladar_pontos(pontos_hexagono, x_centro, y_centro, exp)\n",
    "\n",
    "    for j in range(len(hexagono_transladado) - 1):\n",
    "        p1 = APoint(*hexagono_transladado[j])\n",
    "        p2 = APoint(*hexagono_transladado[j + 1])\n",
    "        obj = acad.model.AddLine(p1, p2)\n",
    "        objetos_parafusos.append(obj)"
   ]
  },
  {
   "cell_type": "code",
   "execution_count": 21,
   "metadata": {},
   "outputs": [],
   "source": [
    "# Rotacionar apenas a seção do perfil:\n",
    "for obj in objetos_parafusos:\n",
    "    obj.Rotate3D(APoint(0, 0, 0), APoint(1,0, 0), math.radians(90))\n",
    "    obj.Rotate3D(APoint(0, 0, 0), APoint(0,0, 1), math.radians(90))\n",
    "\n",
    "for obj in objetos_chapa:\n",
    "    obj.Rotate3D(APoint(0, 0, 0), APoint(1,0, 0), math.radians(90))\n",
    "    obj.Rotate3D(APoint(0, 0, 0), APoint(0,0, 1), math.radians(90))\n",
    "\n",
    "for obj in objetos_secao_perfil:\n",
    "    obj.Rotate3D(APoint(0, 0, 0), APoint(1,0, 0), math.radians(90))\n",
    "    obj.Rotate3D(APoint(0, 0, 0), APoint(0,0, 1), math.radians(90))\n",
    "\n",
    "# Vetor de translação (exemplo: mover 100 mm no eixo X)\n",
    "dx, dy, dz = 0,-perfil_escolhido.b_f/2,0  # ajuste aqui conforme necessário\n",
    "\n",
    "# Aponta o vetor de deslocamento\n",
    "vetor = APoint(dx, dy, dz)\n",
    "\n",
    "for obj in objetos_secao_perfil:\n",
    "    obj.Move(APoint(0,0,0),vetor)\n",
    "\n",
    "\n",
    "for obj in objetos_chapa:\n",
    "    obj.Move(APoint(0,0,0),vetor)\n",
    "\n",
    "\n",
    "for obj in objetos_parafusos:\n",
    "    obj.Move(APoint(0,0,0),vetor)"
   ]
  },
  {
   "cell_type": "code",
   "execution_count": 22,
   "metadata": {},
   "outputs": [],
   "source": [
    "obs=\"(A solda será colocada em todo contorno da viga, com a chapa, inclusive na mesa da viga, sendo uma solda com face superior da chapa)\"\n",
    "escrever_descricao(acad,-perfil_escolhido.b_f*0.75,0,perfil_escolhido.h-10 ,\"Chapa\",\"\",perfil_escolhido.nome,math.ceil(esp_solda),obs)"
   ]
  }
 ],
 "metadata": {
  "kernelspec": {
   "display_name": "Python 3",
   "language": "python",
   "name": "python3"
  },
  "language_info": {
   "codemirror_mode": {
    "name": "ipython",
    "version": 3
   },
   "file_extension": ".py",
   "mimetype": "text/x-python",
   "name": "python",
   "nbconvert_exporter": "python",
   "pygments_lexer": "ipython3",
   "version": "3.13.2"
  }
 },
 "nbformat": 4,
 "nbformat_minor": 2
}
