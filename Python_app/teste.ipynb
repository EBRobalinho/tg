{
 "cells": [
  {
   "cell_type": "code",
   "execution_count": 1,
   "metadata": {},
   "outputs": [],
   "source": [
    "import pandas as pd\n",
    "import numpy as np\n",
    "import matplotlib.pyplot as plt\n",
    "import math\n",
    "from main import *\n",
    "from v_p_chapa_cabeca import *\n",
    "from materiais import *"
   ]
  },
  {
   "cell_type": "code",
   "execution_count": 2,
   "metadata": {},
   "outputs": [],
   "source": [
    "perfil_escolhido = W_360x58_0\n",
    "perfil_escolhido.inercias()\n",
    "\n",
    "aço_escolhido = ASTM_A36\n",
    "\n",
    "solda_escolhida =E70XX"
   ]
  },
  {
   "cell_type": "markdown",
   "metadata": {},
   "source": [
    "##### Cálculo da disposição da chapa, dos parafusos e do diâmetro minimo"
   ]
  },
  {
   "cell_type": "code",
   "execution_count": 3,
   "metadata": {},
   "outputs": [
    {
     "data": {
      "text/plain": [
       "'1.1/8'"
      ]
     },
     "execution_count": 3,
     "metadata": {},
     "output_type": "execute_result"
    }
   ],
   "source": [
    "M = 248000 #kN.mm \n",
    "\n",
    "V = 240 #kN\n",
    "\n",
    "T = 360 #kN\n",
    "\n",
    "parafuso = ASTM_A325\n",
    "\n",
    "diametros = diametros_A325\n",
    "\n",
    "rosca = 1\n",
    "\n",
    "planos_de_corte =1\n",
    "\n",
    "S = curva_interacao(M,V,T,perfil_escolhido,parafuso,rosca,planos_de_corte,diametros,gamma_a2)\n",
    "\n",
    "chapa = S[3]\n",
    "ver_parafuso = S[4].df\n",
    "\n",
    "N = len(ver_parafuso)  #Número total de parafusos\n",
    "n = (ver_parafuso[\"x (mm)\"] == ver_parafuso[\"x (mm)\"].iloc[0]).sum()  #número de parafusos por coluna\n",
    "n_p_c = N/n  #número de parafusos por camada\n",
    "\n",
    "S[1]"
   ]
  },
  {
   "cell_type": "code",
   "execution_count": 4,
   "metadata": {},
   "outputs": [
    {
     "data": {
      "application/vnd.microsoft.datawrangler.viewer.v0+json": {
       "columns": [
        {
         "name": "index",
         "rawType": "int64",
         "type": "integer"
        },
        {
         "name": "vértice",
         "rawType": "int64",
         "type": "integer"
        },
        {
         "name": "x (mm)",
         "rawType": "int64",
         "type": "integer"
        },
        {
         "name": "y (mm)",
         "rawType": "int64",
         "type": "integer"
        }
       ],
       "conversionMethod": "pd.DataFrame",
       "ref": "43e9375a-96f7-4e70-98bb-7081c09dce10",
       "rows": [
        [
         "0",
         "1",
         "0",
         "0"
        ],
        [
         "1",
         "2",
         "200",
         "0"
        ],
        [
         "2",
         "3",
         "200",
         "458"
        ],
        [
         "3",
         "4",
         "0",
         "458"
        ],
        [
         "4",
         "5",
         "0",
         "0"
        ]
       ],
       "shape": {
        "columns": 3,
        "rows": 5
       }
      },
      "text/html": [
       "<div>\n",
       "<style scoped>\n",
       "    .dataframe tbody tr th:only-of-type {\n",
       "        vertical-align: middle;\n",
       "    }\n",
       "\n",
       "    .dataframe tbody tr th {\n",
       "        vertical-align: top;\n",
       "    }\n",
       "\n",
       "    .dataframe thead th {\n",
       "        text-align: right;\n",
       "    }\n",
       "</style>\n",
       "<table border=\"1\" class=\"dataframe\">\n",
       "  <thead>\n",
       "    <tr style=\"text-align: right;\">\n",
       "      <th></th>\n",
       "      <th>vértice</th>\n",
       "      <th>x (mm)</th>\n",
       "      <th>y (mm)</th>\n",
       "    </tr>\n",
       "  </thead>\n",
       "  <tbody>\n",
       "    <tr>\n",
       "      <th>0</th>\n",
       "      <td>1</td>\n",
       "      <td>0</td>\n",
       "      <td>0</td>\n",
       "    </tr>\n",
       "    <tr>\n",
       "      <th>1</th>\n",
       "      <td>2</td>\n",
       "      <td>200</td>\n",
       "      <td>0</td>\n",
       "    </tr>\n",
       "    <tr>\n",
       "      <th>2</th>\n",
       "      <td>3</td>\n",
       "      <td>200</td>\n",
       "      <td>458</td>\n",
       "    </tr>\n",
       "    <tr>\n",
       "      <th>3</th>\n",
       "      <td>4</td>\n",
       "      <td>0</td>\n",
       "      <td>458</td>\n",
       "    </tr>\n",
       "    <tr>\n",
       "      <th>4</th>\n",
       "      <td>5</td>\n",
       "      <td>0</td>\n",
       "      <td>0</td>\n",
       "    </tr>\n",
       "  </tbody>\n",
       "</table>\n",
       "</div>"
      ],
      "text/plain": [
       "   vértice  x (mm)  y (mm)\n",
       "0        1       0       0\n",
       "1        2     200       0\n",
       "2        3     200     458\n",
       "3        4       0     458\n",
       "4        5       0       0"
      ]
     },
     "execution_count": 4,
     "metadata": {},
     "output_type": "execute_result"
    }
   ],
   "source": [
    "chapa.df"
   ]
  },
  {
   "cell_type": "markdown",
   "metadata": {},
   "source": [
    "##### Cálculo da espessura da chapa de cabeça"
   ]
  },
  {
   "cell_type": "code",
   "execution_count": 5,
   "metadata": {},
   "outputs": [
    {
     "data": {
      "text/plain": [
       "22.224999999999998"
      ]
     },
     "execution_count": 5,
     "metadata": {},
     "output_type": "execute_result"
    }
   ],
   "source": [
    "rigida = 1\n",
    "\n",
    "F_r_total = resistencia_total(parafuso,rosca,planos_de_corte,gamma_a2)\n",
    "\n",
    "F_t_Sd=solicitante_parafuso_tração(M,chapa.B, np.unique(ver_parafuso[\"y (mm)\"]),n_p_c, parafuso , n, S[0]) + T/(n_p_c*n)\n",
    "\n",
    "exp = exp_placa(aço_escolhido, chapa, espessuras, rigida, ver_parafuso, pol_to_mm(S[1]), F_r_total,F_t_Sd,gamma_a1)\n",
    "\n",
    "exp = pol_to_mm(exp)\n",
    "\n",
    "exp"
   ]
  },
  {
   "cell_type": "markdown",
   "metadata": {},
   "source": [
    "##### Cálculo da espessura do filete de solda na alma"
   ]
  },
  {
   "cell_type": "code",
   "execution_count": 6,
   "metadata": {},
   "outputs": [
    {
     "data": {
      "text/plain": [
       "7"
      ]
     },
     "execution_count": 6,
     "metadata": {},
     "output_type": "execute_result"
    }
   ],
   "source": [
    "espessura_solda_alma = esp_solda_alma(perfil_escolhido,aço_escolhido,solda_escolhida,(perfil_escolhido.h_w),exp,M,V,T,True,gamma_a1,gamma_a2)\n",
    "\n",
    "math.ceil(espessura_solda_alma) #mm"
   ]
  },
  {
   "cell_type": "code",
   "execution_count": 7,
   "metadata": {},
   "outputs": [
    {
     "data": {
      "text/plain": [
       "8"
      ]
     },
     "execution_count": 7,
     "metadata": {},
     "output_type": "execute_result"
    }
   ],
   "source": [
    "espessura_solda_mesa = esp_solda_mesa(perfil_escolhido,aço_escolhido,solda_escolhida,(perfil_escolhido.b_f),exp,M,V,T,True,gamma_a1,gamma_a2)\n",
    "\n",
    "math.ceil(espessura_solda_mesa) #mm"
   ]
  },
  {
   "cell_type": "code",
   "execution_count": 8,
   "metadata": {},
   "outputs": [],
   "source": [
    "from pyautocad import Autocad, APoint\n",
    "from comtypes import npsupport\n",
    "npsupport.enable()"
   ]
  },
  {
   "cell_type": "code",
   "execution_count": 9,
   "metadata": {},
   "outputs": [
    {
     "name": "stdout",
     "output_type": "stream",
     "text": [
      "Hello, Autocad from Python\n",
      "\n",
      "Drawing5.dwg\n"
     ]
    }
   ],
   "source": [
    "acad = Autocad(create_if_not_exists=True)\n",
    "acad.prompt(\"Hello, Autocad from Python\\n\")\n",
    "print(acad.doc.Name)"
   ]
  },
  {
   "cell_type": "code",
   "execution_count": 10,
   "metadata": {},
   "outputs": [],
   "source": [
    "p1 = APoint(0, 0)\n",
    "p2 = APoint(50, 25)\n",
    "for i in range(5):\n",
    "    text = acad.model.AddText(u'Hi %s!' % i, p1, 2.5)\n",
    "    acad.model.AddLine(p1, p2)\n",
    "    acad.model.AddCircle(p1, 10)\n",
    "    p1.y += 10"
   ]
  },
  {
   "cell_type": "code",
   "execution_count": 11,
   "metadata": {},
   "outputs": [],
   "source": [
    "pontos=chapa.df"
   ]
  },
  {
   "cell_type": "code",
   "execution_count": 12,
   "metadata": {},
   "outputs": [
    {
     "data": {
      "text/plain": [
       "5"
      ]
     },
     "execution_count": 12,
     "metadata": {},
     "output_type": "execute_result"
    }
   ],
   "source": [
    "pontos.shape[0]"
   ]
  },
  {
   "cell_type": "code",
   "execution_count": 13,
   "metadata": {},
   "outputs": [],
   "source": [
    "for i in range(0,pontos.shape[0]-1):\n",
    "    acad.model.AddLine(APoint(pontos.iat[i,1],pontos.iat[i,2]),APoint(pontos.iat[i+1,1],pontos.iat[i+1,2]))"
   ]
  },
  {
   "cell_type": "code",
   "execution_count": 28,
   "metadata": {},
   "outputs": [
    {
     "name": "stdout",
     "output_type": "stream",
     "text": [
      "AcDbText\n",
      "AcDbLine\n",
      "AcDbCircle\n",
      "AcDbText\n",
      "AcDbLine\n",
      "AcDbCircle\n",
      "AcDbText\n",
      "AcDbLine\n",
      "AcDbCircle\n",
      "AcDbText\n",
      "AcDbLine\n",
      "AcDbCircle\n",
      "AcDbText\n",
      "AcDbLine\n",
      "AcDbCircle\n"
     ]
    }
   ],
   "source": [
    "for obj in acad.iter_objects():\n",
    "    print(obj.ObjectName)"
   ]
  }
 ],
 "metadata": {
  "kernelspec": {
   "display_name": "Python 3",
   "language": "python",
   "name": "python3"
  },
  "language_info": {
   "codemirror_mode": {
    "name": "ipython",
    "version": 3
   },
   "file_extension": ".py",
   "mimetype": "text/x-python",
   "name": "python",
   "nbconvert_exporter": "python",
   "pygments_lexer": "ipython3",
   "version": "3.13.2"
  }
 },
 "nbformat": 4,
 "nbformat_minor": 2
}
