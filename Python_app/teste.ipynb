{
 "cells": [
  {
   "cell_type": "code",
   "execution_count": 1,
   "metadata": {},
   "outputs": [],
   "source": [
    "import pandas as pd\n",
    "import numpy as np\n",
    "import matplotlib.pyplot as plt\n",
    "import math\n",
    "from main import *\n",
    "from v_p_chapa_cabeca import *\n",
    "from materiais import *"
   ]
  },
  {
   "cell_type": "code",
   "execution_count": 2,
   "metadata": {},
   "outputs": [],
   "source": [
    "perfil_escolhido = W_250x32_7\n",
    "\n",
    "aço_escolhido = ASTM_A36\n",
    "\n",
    "solda_escolhida =E70XX"
   ]
  },
  {
   "cell_type": "code",
   "execution_count": 3,
   "metadata": {},
   "outputs": [],
   "source": [
    "chapa = chapa_para_perfil(perfil_escolhido)"
   ]
  },
  {
   "cell_type": "code",
   "execution_count": 4,
   "metadata": {},
   "outputs": [],
   "source": [
    "disp_parafuso = disposicao_parafusos(perfil_escolhido)\n",
    "ver_parafuso = disp_parafuso.df"
   ]
  },
  {
   "cell_type": "code",
   "execution_count": 5,
   "metadata": {},
   "outputs": [
    {
     "name": "stdout",
     "output_type": "stream",
     "text": [
      "   k diametro       y_ln\n",
      "0  0    1.1/8  75.894495\n"
     ]
    }
   ],
   "source": [
    "M = 136000 #kN.mm \n",
    "\n",
    "V = 196 #kN\n",
    "\n",
    "T = 00 #kN\n",
    "\n",
    "B = chapa.B\n",
    "\n",
    "parafuso = ASTM_A325\n",
    "\n",
    "diametros = diametros_A325\n",
    "\n",
    "rosca = 1\n",
    "\n",
    "planos_de_corte =1\n",
    "\n",
    "N = len(ver_parafuso)  #Número total de parafusos\n",
    "\n",
    "n = (ver_parafuso[\"x (mm)\"] == ver_parafuso[\"x (mm)\"].iloc[0]).sum()  #número de parafusos por coluna\n",
    "\n",
    "n_p_c = N/n  #número de parafusos por camada\n",
    "\n",
    "S = curva_interacao(M,V,T,B,np.unique(ver_parafuso[\"y (mm)\"]),parafuso,rosca,planos_de_corte,n,n_p_c,diametros,gamma_a2)\n",
    "\n",
    "print(S)"
   ]
  },
  {
   "cell_type": "code",
   "execution_count": 6,
   "metadata": {},
   "outputs": [
    {
     "data": {
      "text/plain": [
       "25.4"
      ]
     },
     "execution_count": 6,
     "metadata": {},
     "output_type": "execute_result"
    }
   ],
   "source": [
    "rigida = 1\n",
    "\n",
    "F_r_total = resistencia_total(parafuso,rosca,planos_de_corte,gamma_a2)\n",
    "\n",
    "F_t_Sd=solicitante_parafuso_tração(M,B, np.unique(ver_parafuso[\"y (mm)\"]), parafuso , n, S.k[0]) + T\n",
    "\n",
    "exp = exp_placa(aço_escolhido, chapa, espessuras, rigida, ver_parafuso, pol_to_mm(S.diametro[0]), F_r_total,F_t_Sd,gamma_a1)\n",
    "\n",
    "pol_to_mm(exp)"
   ]
  },
  {
   "cell_type": "code",
   "execution_count": 7,
   "metadata": {},
   "outputs": [
    {
     "data": {
      "text/plain": [
       "np.float64(23.42779191199343)"
      ]
     },
     "execution_count": 7,
     "metadata": {},
     "output_type": "execute_result"
    }
   ],
   "source": [
    "esp_solda(aço_escolhido,solda_escolhida,(perfil_escolhido.h-2*perfil_escolhido.t_f), M,V,T,True,gamma_a1,gamma_a2)"
   ]
  },
  {
   "cell_type": "code",
   "execution_count": 8,
   "metadata": {},
   "outputs": [
    {
     "ename": "ModuleNotFoundError",
     "evalue": "No module named 'pyautocad'",
     "output_type": "error",
     "traceback": [
      "\u001b[31m---------------------------------------------------------------------------\u001b[39m",
      "\u001b[31mModuleNotFoundError\u001b[39m                       Traceback (most recent call last)",
      "\u001b[36mCell\u001b[39m\u001b[36m \u001b[39m\u001b[32mIn[8]\u001b[39m\u001b[32m, line 2\u001b[39m\n\u001b[32m      1\u001b[39m \u001b[38;5;28;01mimport\u001b[39;00m\u001b[38;5;250m \u001b[39m\u001b[34;01mpandas\u001b[39;00m\u001b[38;5;250m \u001b[39m\u001b[38;5;28;01mas\u001b[39;00m\u001b[38;5;250m \u001b[39m\u001b[34;01mpd\u001b[39;00m\n\u001b[32m----> \u001b[39m\u001b[32m2\u001b[39m \u001b[38;5;28;01mfrom\u001b[39;00m\u001b[38;5;250m \u001b[39m\u001b[34;01mpyautocad\u001b[39;00m\u001b[38;5;250m \u001b[39m\u001b[38;5;28;01mimport\u001b[39;00m Autocad, APoint\n\u001b[32m      4\u001b[39m \u001b[38;5;28;01mdef\u001b[39;00m\u001b[38;5;250m \u001b[39m\u001b[34mcriar_desenho_autocad\u001b[39m(df, nome_arquivo=\u001b[33m\"\u001b[39m\u001b[33mchapa_aco.dwg\u001b[39m\u001b[33m\"\u001b[39m):\n\u001b[32m      5\u001b[39m \u001b[38;5;250m    \u001b[39m\u001b[33;03m\"\"\"\u001b[39;00m\n\u001b[32m      6\u001b[39m \u001b[33;03m    Cria um arquivo de AutoCAD com a seção da chapa de aço a partir de um DataFrame.\u001b[39;00m\n\u001b[32m      7\u001b[39m \n\u001b[32m   (...)\u001b[39m\u001b[32m     11\u001b[39m \u001b[33;03m        nome_arquivo (str): Nome do arquivo AutoCAD a ser criado (com extensão .dwg).\u001b[39;00m\n\u001b[32m     12\u001b[39m \u001b[33;03m    \"\"\"\u001b[39;00m\n",
      "\u001b[31mModuleNotFoundError\u001b[39m: No module named 'pyautocad'"
     ]
    }
   ],
   "source": [
    "import pandas as pd\n",
    "from pyautocad import Autocad, APoint\n",
    "\n",
    "def criar_desenho_autocad(df, nome_arquivo=\"chapa_aco.dwg\"):\n",
    "    \"\"\"\n",
    "    Cria um arquivo de AutoCAD com a seção da chapa de aço a partir de um DataFrame.\n",
    "\n",
    "    Args:\n",
    "        df (pd.DataFrame): DataFrame com as coordenadas dos vértices.\n",
    "                           Deve conter colunas 'x (mm)' e 'y (mm)' com as coordenadas em mm.\n",
    "        nome_arquivo (str): Nome do arquivo AutoCAD a ser criado (com extensão .dwg).\n",
    "    \"\"\"\n",
    "    try:\n",
    "        acad = Autocad(create_if_not_exists=True)\n",
    "        print(f\"Conectado ao AutoCAD versão: {acad.Application.Version}\")\n",
    "    except Exception as e:\n",
    "        print(f\"Erro ao conectar ao AutoCAD: {e}\")\n",
    "        return\n",
    "\n",
    "    msp = acad.model  # Acessa o Model Space\n",
    "\n",
    "    # Prepara a lista de coordenadas para a Polyline\n",
    "    coords =[]\n",
    "    for index, row in df.iterrows():\n",
    "        coords.extend([row['x (mm)'], row['y (mm)'], 0])  # Adiciona a coordenada Z (assumindo 2D)\n",
    "\n",
    "    # Cria a Polyline\n",
    "    if coords:\n",
    "        ponto_inicial = APoint(coords[0], coords[1], coords[2])\n",
    "        polyline = msp.AddPolyline(coords)\n",
    "\n",
    "        # Fecha a Polyline (se a chapa for fechada)\n",
    "        if not df.empty and (df.iloc[0]['x (mm)'] != df.iloc[-1]['x (mm)'] or df.iloc[0]['y (mm)'] != df.iloc[-1]['y (mm)']):\n",
    "            polyline.Closed = True\n",
    "\n",
    "        # Salva o desenho\n",
    "        try:\n",
    "            acad.doc.SaveAs(nome_arquivo)\n",
    "            print(f\"Arquivo AutoCAD '{nome_arquivo}' criado com sucesso.\")\n",
    "        except Exception as e:\n",
    "            print(f\"Erro ao salvar o arquivo AutoCAD: {e}\")\n",
    "    else:\n",
    "        print(\"O DataFrame não contém coordenadas para criar a seção.\")\n",
    "\n",
    "    criar_desenho_autocad(chapa.df, nome_arquivo=\"chapa_aberta.dwg\")"
   ]
  }
 ],
 "metadata": {
  "kernelspec": {
   "display_name": "Python 3",
   "language": "python",
   "name": "python3"
  },
  "language_info": {
   "codemirror_mode": {
    "name": "ipython",
    "version": 3
   },
   "file_extension": ".py",
   "mimetype": "text/x-python",
   "name": "python",
   "nbconvert_exporter": "python",
   "pygments_lexer": "ipython3",
   "version": "3.13.2"
  }
 },
 "nbformat": 4,
 "nbformat_minor": 2
}
